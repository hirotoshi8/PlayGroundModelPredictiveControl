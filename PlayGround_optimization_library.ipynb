{
 "cells": [
  {
   "cell_type": "code",
   "execution_count": 1,
   "metadata": {
    "collapsed": false
   },
   "outputs": [
    {
     "name": "stdout",
     "output_type": "stream",
     "text": [
      "optimal parameter:\n",
      " [-4.95922264e-21  6.07571976e-21  1.34643668e-01  1.24976681e-01\n",
      " -4.57130806e-21]\n",
      "Lagrange parameter\n",
      " [2.00105768 0.75536127 0.         0.         1.17911779]\n",
      "status:optimal\n"
     ]
    }
   ],
   "source": [
    "import cvxpy as cp\n",
    "import numpy as np\n",
    "\n",
    "m = 10\n",
    "n = 5\n",
    "\n",
    "np.random.seed(1)\n",
    "A = np.random.randn(m,n)\n",
    "b = np.random.randn(m)\n",
    "\n",
    "x = cp.Variable(n)\n",
    "cost = cp.sum_squares(A*x - b)\n",
    "objective = cp.Minimize(cost)\n",
    "constraints = [0 <= x, x <=1]\n",
    "prob= cp.Problem(objective, constraints)\n",
    "\n",
    "result = prob.solve()\n",
    "\n",
    "print(\"optimal parameter:\\n\", x.value)\n",
    "print(\"Lagrange parameter\\n\", constraints[0].dual_value)\n",
    "print(\"status:\"+ prob.status)"
   ]
  },
  {
   "cell_type": "code",
   "execution_count": 2,
   "metadata": {
    "collapsed": false
   },
   "outputs": [
    {
     "name": "stdout",
     "output_type": "stream",
     "text": [
      "     pcost       dcost       gap    pres   dres\n",
      " 0:  1.0000e+00  8.8818e-16  1e+00  4e-16  8e-01\n",
      " 1:  1.0000e+00  9.9000e-01  1e-02  8e-17  8e-03\n",
      " 2:  1.0000e+00  9.9990e-01  1e-04  1e-16  8e-05\n",
      " 3:  1.0000e+00  1.0000e+00  1e-06  1e-16  8e-07\n",
      " 4:  1.0000e+00  1.0000e+00  1e-08  7e-17  8e-09\n",
      "Optimal solution found.\n",
      "{'x': <2x1 matrix, tc='d'>, 'y': <2x1 matrix, tc='d'>, 's': <1x1 matrix, tc='d'>, 'z': <1x1 matrix, tc='d'>, 'status': 'optimal', 'gap': 1.0000000000000037e-08, 'relative gap': 1.0000000100000038e-08, 'primal objective': 1.0, 'dual objective': 0.99999999, 'primal infeasibility': 7.401486830834377e-17, 'dual infeasibility': 8.000000064507973e-09, 'primal slack': 1.0000000000000002, 'dual slack': 1.0000000000000035e-08, 'iterations': 4}\n",
      "[-1.00e+00]\n",
      "[ 1.00e+00]\n",
      "\n",
      "1.0\n"
     ]
    }
   ],
   "source": [
    "import cvxopt\n",
    "from cvxopt import matrix\n",
    "import numpy as np\n",
    "\n",
    "P = matrix(np.diag([1.0, -1.0]))\n",
    "q = matrix(np.array([3.0, 4.0]))\n",
    "A = matrix(np.array([[-1.0, 0.0],[2.0,3.0]]).astype(np.float))\n",
    "b = matrix(np.array([1.0,1.0]))\n",
    "G = matrix(np.array([[-2.0, 0.0]]).astype(np.float))\n",
    "h = matrix(np.array([3.0]))\n",
    "\n",
    "sol = cvxopt.solvers.qp(P,q, A=A, b=b,G=G, h=h)\n",
    "print(sol)\n",
    "print(sol['x'])\n",
    "print(sol['primal objective'])"
   ]
  },
  {
   "cell_type": "markdown",
   "metadata": {},
   "source": []
  },
  {
   "cell_type": "code",
   "execution_count": 3,
   "metadata": {
    "collapsed": false
   },
   "outputs": [
    {
     "name": "stdout",
     "output_type": "stream",
     "text": [
      "status: optimal\n",
      "optimal value 1.0\n",
      "optimal value 1.0 1.570086213240983e-22\n"
     ]
    }
   ],
   "source": [
    "import cvxpy as cp\n",
    "\n",
    "# Create 2 scalar optimization value\n",
    "x = cp.Variable()\n",
    "y = cp.Variable()\n",
    "\n",
    "# Create 2 constrains\n",
    "constrains = [ (x + y) == 1,\n",
    "               (x - y) >= 1]\n",
    "\n",
    "# Form objective(目的関数・コスト関数)\n",
    "cost = (x- y)**2\n",
    "obj = cp.Minimize(cost)\n",
    "\n",
    "# Form and solve problem\n",
    "prob = cp.Problem(obj, constrains)\n",
    "prob.solve()\n",
    "\n",
    "# Result\n",
    "print(\"status:\", prob.status)\n",
    "print(\"optimal value\", prob.value)\n",
    "print(\"optimal value\", x.value, y.value)\n"
   ]
  },
  {
   "cell_type": "code",
   "execution_count": 4,
   "metadata": {
    "collapsed": false
   },
   "outputs": [
    {
     "name": "stdout",
     "output_type": "stream",
     "text": [
      "status: unbounded\n",
      "optimal value -inf\n",
      "optimal value 1.0 1.570086213240983e-22\n"
     ]
    }
   ],
   "source": [
    "import cvxpy as vp\n",
    "\n",
    "# Creaate 2 scalar optimization value\n",
    "x1 = cp.Variable()\n",
    "x2 = cp.Variable()\n",
    "\n",
    "# Create 2 constraints\n",
    "constraints = [(x1 + x2) == 1,\n",
    "               (x1 - x2) >= 1]\n",
    "\n",
    "# Form objective\n",
    "cost = -x1+x2\n",
    "obj = cp.Minimize(cost)\n",
    "\n",
    "# Form and solve problem\n",
    "prob = cp.Problem(obj, constraints)\n",
    "prob.solve()\n",
    "\n",
    "# Result\n",
    "print(\"status:\", prob.status)\n",
    "print(\"optimal value\", prob.value)\n",
    "print(\"optimal value\", x.value, y.value)"
   ]
  },
  {
   "cell_type": "code",
   "execution_count": 5,
   "metadata": {
    "collapsed": false
   },
   "outputs": [
    {
     "name": "stdout",
     "output_type": "stream",
     "text": [
      "status: optimal\n",
      "optimal value 0.5000000000000002\n",
      "optimal value 0.5000000000000001 0.5000000000000001\n"
     ]
    }
   ],
   "source": [
    "import cvxpy as cp\n",
    "\n",
    "# Create Variables\n",
    "x = cp.Variable()\n",
    "y = cp.Variable()\n",
    "\n",
    "# Create constraints\n",
    "constraints = [(x + y) >= 1]\n",
    "\n",
    "# Cost function\n",
    "cost = x**2 + y**2\n",
    "# Form objective\n",
    "obj = cp.Minimize(cost)\n",
    "\n",
    "# Form and solve problem\n",
    "prob = cp.Problem(obj,constraints)\n",
    "prob.solve()\n",
    "\n",
    "# Result\n",
    "print(\"status:\", prob.status)\n",
    "print(\"optimal value\", prob.value)\n",
    "print(\"optimal value\", x.value, y.value)\n"
   ]
  },
  {
   "cell_type": "code",
   "execution_count": 6,
   "metadata": {
    "collapsed": false
   },
   "outputs": [
    {
     "name": "stdout",
     "output_type": "stream",
     "text": [
      "status: optimal\n",
      "optimal value 3.000000000000001\n",
      "optimal value 5.0 0.0\n"
     ]
    }
   ],
   "source": [
    "\n",
    "import cvxpy as cp\n",
    "\n",
    "# Create Variables\n",
    "x1 = cp.Variable()\n",
    "x2 = cp.Variable()\n",
    "\n",
    "# Create constraints\n",
    "constraints = [x1 <= 5,\n",
    "               -x1<= 5,\n",
    "               x2 <= 5,\n",
    "               -x2<= 5]\n",
    "\n",
    "# Cost\n",
    "cost = (x1 - 6)**2 + 2+x2**2\n",
    "# objective\n",
    "obj = cp.Minimize(cost)\n",
    "\n",
    "# Form and solve problem\n",
    "prob = cp.Problem(obj, constraints)\n",
    "prob.solve()\n",
    "\n",
    "# Result\n",
    "print(\"status:\", prob.status)\n",
    "print(\"optimal value\", prob.value)\n",
    "print(\"optimal value\", x1.value, x2.value)\n"
   ]
  },
  {
   "cell_type": "markdown",
   "metadata": {},
   "source": [
    "# Model predoctive control with cvxpy"
   ]
  },
  {
   "cell_type": "code",
   "execution_count": 7,
   "metadata": {
    "collapsed": false
   },
   "outputs": [
    {
     "name": "stdout",
     "output_type": "stream",
     "text": [
      "Simulation start\n",
      "-----------------------------------------------------------------\n",
      "           OSQP v0.5.0  -  Operator Splitting QP Solver\n",
      "              (c) Bartolomeo Stellato,  Goran Banjac\n",
      "        University of Oxford  -  Stanford University 2018\n",
      "-----------------------------------------------------------------\n",
      "problem:  variables n = 654, constraints m = 750\n",
      "          nnz(P) + nnz(A) = 2750\n",
      "settings: linear system solver = qdldl,\n",
      "          eps_abs = 1.0e-04, eps_rel = 1.0e-04,\n",
      "          eps_prim_inf = 1.0e-04, eps_dual_inf = 1.0e-04,\n",
      "          rho = 1.00e-01 (adaptive),\n",
      "          sigma = 1.00e-06, alpha = 1.60, max_iter = 10000\n",
      "          check_termination: on (interval 25),\n",
      "          scaling: on, scaled_termination: off\n",
      "          warm start: on, polish: on\n",
      "\n",
      "objective    pri res    dua res    rho        time\n",
      "   1   0.0000e+00   0.00e+00   0.00e+00   1.00e-01   5.90e-04s\n",
      "  25   0.0000e+00   0.00e+00   0.00e+00   1.00e-01   1.31e-03s\n",
      "\n",
      "status:               solved\n",
      "solution polish:      unsuccessful\n",
      "number of iterations: 25\n",
      "optimal objective:    0.0000\n",
      "run time:             1.46e-03s\n",
      "optimal rho estimate: 1.00e-06\n",
      "\n",
      "calc time:0.35805487632751465 [s]\n"
     ]
    },
    {
     "ename": "IndexError",
     "evalue": "too many indices for array",
     "output_type": "error",
     "traceback": [
      "\u001b[1;31m---------------------------------------------------------------------------\u001b[0m",
      "\u001b[1;31mIndexError\u001b[0m                                Traceback (most recent call last)",
      "\u001b[1;32m<ipython-input-7-12de48992ffb>\u001b[0m in \u001b[0;36m<module>\u001b[1;34m\u001b[0m\n\u001b[0;32m     46\u001b[0m \u001b[0mf\u001b[0m \u001b[1;33m=\u001b[0m \u001b[0mplt\u001b[0m\u001b[1;33m.\u001b[0m\u001b[0mfigure\u001b[0m\u001b[1;33m(\u001b[0m\u001b[1;33m)\u001b[0m\u001b[1;33m\u001b[0m\u001b[1;33m\u001b[0m\u001b[0m\n\u001b[0;32m     47\u001b[0m \u001b[0max\u001b[0m \u001b[1;33m=\u001b[0m \u001b[0mf\u001b[0m\u001b[1;33m.\u001b[0m\u001b[0madd_subplot\u001b[0m\u001b[1;33m(\u001b[0m\u001b[1;36m211\u001b[0m\u001b[1;33m)\u001b[0m\u001b[1;33m\u001b[0m\u001b[1;33m\u001b[0m\u001b[0m\n\u001b[1;32m---> 48\u001b[1;33m \u001b[0mu1\u001b[0m\u001b[1;33m=\u001b[0m\u001b[0mnp\u001b[0m\u001b[1;33m.\u001b[0m\u001b[0marray\u001b[0m\u001b[1;33m(\u001b[0m\u001b[0mu\u001b[0m\u001b[1;33m[\u001b[0m\u001b[1;36m0\u001b[0m\u001b[1;33m,\u001b[0m\u001b[1;33m:\u001b[0m\u001b[1;33m]\u001b[0m\u001b[1;33m.\u001b[0m\u001b[0mvalue\u001b[0m\u001b[1;33m[\u001b[0m\u001b[1;36m0\u001b[0m\u001b[1;33m,\u001b[0m\u001b[1;33m:\u001b[0m\u001b[1;33m]\u001b[0m\u001b[1;33m)\u001b[0m\u001b[1;33m[\u001b[0m\u001b[1;36m0\u001b[0m\u001b[1;33m]\u001b[0m\u001b[1;33m.\u001b[0m\u001b[0mtolist\u001b[0m\u001b[1;33m(\u001b[0m\u001b[1;33m)\u001b[0m\u001b[1;33m\u001b[0m\u001b[1;33m\u001b[0m\u001b[0m\n\u001b[0m\u001b[0;32m     49\u001b[0m \u001b[0mu2\u001b[0m\u001b[1;33m=\u001b[0m\u001b[0mnp\u001b[0m\u001b[1;33m.\u001b[0m\u001b[0marray\u001b[0m\u001b[1;33m(\u001b[0m\u001b[0mu\u001b[0m\u001b[1;33m[\u001b[0m\u001b[1;36m1\u001b[0m\u001b[1;33m,\u001b[0m\u001b[1;33m:\u001b[0m\u001b[1;33m]\u001b[0m\u001b[1;33m.\u001b[0m\u001b[0mvalue\u001b[0m\u001b[1;33m[\u001b[0m\u001b[1;36m0\u001b[0m\u001b[1;33m,\u001b[0m\u001b[1;33m:\u001b[0m\u001b[1;33m]\u001b[0m\u001b[1;33m)\u001b[0m\u001b[1;33m[\u001b[0m\u001b[1;36m0\u001b[0m\u001b[1;33m]\u001b[0m\u001b[1;33m.\u001b[0m\u001b[0mtolist\u001b[0m\u001b[1;33m(\u001b[0m\u001b[1;33m)\u001b[0m\u001b[1;33m\u001b[0m\u001b[1;33m\u001b[0m\u001b[0m\n\u001b[0;32m     50\u001b[0m \u001b[0mplt\u001b[0m\u001b[1;33m.\u001b[0m\u001b[0mplot\u001b[0m\u001b[1;33m(\u001b[0m\u001b[0mu1\u001b[0m\u001b[1;33m,\u001b[0m\u001b[1;34m'-r'\u001b[0m\u001b[1;33m,\u001b[0m\u001b[0mlabel\u001b[0m\u001b[1;33m=\u001b[0m\u001b[1;34m\"u1\"\u001b[0m\u001b[1;33m)\u001b[0m\u001b[1;33m\u001b[0m\u001b[1;33m\u001b[0m\u001b[0m\n",
      "\u001b[1;31mIndexError\u001b[0m: too many indices for array"
     ]
    }
   ],
   "source": [
    "import time\n",
    "from cvxpy import *\n",
    "import numpy as np\n",
    "import matplotlib.pyplot as plt\n",
    "print(\"Simulation start\")\n",
    "\n",
    "np.random.seed(1)\n",
    "n = 4   #state size\n",
    "m = 2   #input size\n",
    "T = 50  #number of horizon\n",
    "\n",
    "#simulation parameter\n",
    "alpha = 0.2\n",
    "beta = 5.0\n",
    "\n",
    "# Model Parameter\n",
    "A = np.eye(n) + alpha*np.random.randn(n,n)\n",
    "B = np.random.randn(n,m)\n",
    "x_0 = beta*np.random.randn(n,1)\n",
    "\n",
    "x = cp.Variable(shape=(n, T+1))\n",
    "u = cp.Variable(shape=(m, T))\n",
    "\n",
    "states = []\n",
    "for t in range(T):\n",
    "    cost = sum_squares(x[:,t+1]) + sum_squares(u[:,t])\n",
    "    constr = [x[:,t+1] == A*x[:,t] + B*u[:,t],\n",
    "              norm(u[:,t], 'inf') <= 1]\n",
    "    states.append( Problem(Minimize(cost), constr) )\n",
    "# sums problem objectives and concatenates constraints.\n",
    "prob = sum(states)\n",
    "#prob.constraints = [x[:,0] == x_0]\n",
    "#prob.constraints += [x[:,T+1] == 0,\n",
    "#                     x[:,0] == x_0]\n",
    "\n",
    "start = time.time()\n",
    "result=prob.solve(verbose=True)\n",
    "elapsed_time = time.time() - start\n",
    "print (\"calc time:{} [s]\".format(elapsed_time))\n",
    "\n",
    "if result == float(\"inf\"):\n",
    "    print(\"Cannot optimize\")\n",
    "    import sys\n",
    "    sys.exit()\n",
    "\n",
    "f = plt.figure()\n",
    "ax = f.add_subplot(211)\n",
    "u1=np.array(u[0,:].value[0,:])[0].tolist()\n",
    "u2=np.array(u[1,:].value[0,:])[0].tolist()\n",
    "plt.plot(u1,'-r',label=\"u1\")\n",
    "plt.plot(u2,'-b',label=\"u2\")\n",
    "plt.ylabel(r\"$u_t$\", fontsize=16)\n",
    "plt.yticks(np.linspace(-1.0, 1.0, 3))\n",
    "plt.legend()\n",
    "plt.grid(True)\n",
    "\n",
    "plt.subplot(2,1,2)\n",
    "x1=np.array(x[0,:].value[0,:])[0].tolist()\n",
    "x2=np.array(x[1,:].value[0,:])[0].tolist()\n",
    "x3=np.array(x[2,:].value[0,:])[0].tolist()\n",
    "x4=np.array(x[3,:].value[0,:])[0].tolist()\n",
    "plt.plot(range(T+1), x1,'-r',label=\"x1\")\n",
    "plt.plot(range(T+1), x2,'-b',label=\"x2\")\n",
    "plt.plot(range(T+1), x3,'-g',label=\"x3\")\n",
    "plt.plot(range(T+1), x4,'-k',label=\"x4\")\n",
    "plt.yticks([-25, 0, 25])\n",
    "plt.ylim([-25, 25])\n",
    "plt.ylabel(r\"$x_t$\", fontsize=16)\n",
    "plt.xlabel(r\"$t$\", fontsize=16)\n",
    "plt.grid(True)\n",
    "plt.legend()\n",
    "plt.tight_layout()\n",
    "plt.show()"
   ]
  },
  {
   "cell_type": "code",
   "execution_count": null,
   "metadata": {
    "collapsed": true
   },
   "outputs": [],
   "source": []
  }
 ],
 "metadata": {
  "kernelspec": {
   "display_name": "Python [conda env:RobotControl]",
   "language": "python",
   "name": "conda-env-RobotControl-py"
  },
  "language_info": {
   "codemirror_mode": {
    "name": "ipython",
    "version": 3
   },
   "file_extension": ".py",
   "mimetype": "text/x-python",
   "name": "python",
   "nbconvert_exporter": "python",
   "pygments_lexer": "ipython3",
   "version": "3.6.7"
  }
 },
 "nbformat": 4,
 "nbformat_minor": 2
}
