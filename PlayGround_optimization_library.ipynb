{
 "cells": [
  {
   "cell_type": "markdown",
   "metadata": {},
   "source": [
    "# Example       "
   ]
  },
  {
   "cell_type": "code",
   "execution_count": 3,
   "metadata": {
    "collapsed": false
   },
   "outputs": [
    {
     "name": "stdout",
     "output_type": "stream",
     "text": [
      "optimal parameter:\n",
      " [-4.95922264e-21  6.07571976e-21  1.34643668e-01  1.24976681e-01\n",
      " -4.57130806e-21]\n",
      "Lagrange parameter\n",
      " [2.00105768 0.75536127 0.         0.         1.17911779]\n",
      "status:optimal\n"
     ]
    }
   ],
   "source": [
    "import cvxpy as cp\n",
    "import numpy as np\n",
    "\n",
    "m = 10\n",
    "n = 5\n",
    "\n",
    "np.random.seed(1)\n",
    "A = np.random.randn(m,n)\n",
    "b = np.random.randn(m)\n",
    "\n",
    "x = cp.Variable(n)\n",
    "cost = cp.sum_squares(A*x - b)\n",
    "objective = cp.Minimize(cost)\n",
    "constraints = [0 <= x, x <=1]\n",
    "prob= cp.Problem(objective, constraints)\n",
    "\n",
    "result = prob.solve()\n",
    "\n",
    "print(\"optimal parameter:\\n\", x.value)\n",
    "print(\"Lagrange parameter\\n\", constraints[0].dual_value)\n",
    "print(\"status:\"+ prob.status)"
   ]
  },
  {
   "cell_type": "code",
   "execution_count": 11,
   "metadata": {
    "collapsed": false
   },
   "outputs": [
    {
     "data": {
      "text/plain": [
       "Expression(CONVEX, NONNEGATIVE, ())"
      ]
     },
     "execution_count": 11,
     "metadata": {},
     "output_type": "execute_result"
    }
   ],
   "source": [
    "A = np.array([[1,1,1,1,1],\n",
    "             [2,2,2,2,2]])\n",
    "cost"
   ]
  },
  {
   "cell_type": "code",
   "execution_count": 2,
   "metadata": {
    "collapsed": false
   },
   "outputs": [
    {
     "name": "stdout",
     "output_type": "stream",
     "text": [
      "     pcost       dcost       gap    pres   dres\n",
      " 0:  1.0000e+00  8.8818e-16  1e+00  4e-16  8e-01\n",
      " 1:  1.0000e+00  9.9000e-01  1e-02  8e-17  8e-03\n",
      " 2:  1.0000e+00  9.9990e-01  1e-04  1e-16  8e-05\n",
      " 3:  1.0000e+00  1.0000e+00  1e-06  1e-16  8e-07\n",
      " 4:  1.0000e+00  1.0000e+00  1e-08  7e-17  8e-09\n",
      "Optimal solution found.\n",
      "{'x': <2x1 matrix, tc='d'>, 'y': <2x1 matrix, tc='d'>, 's': <1x1 matrix, tc='d'>, 'z': <1x1 matrix, tc='d'>, 'status': 'optimal', 'gap': 1.0000000000000037e-08, 'relative gap': 1.0000000100000038e-08, 'primal objective': 1.0, 'dual objective': 0.99999999, 'primal infeasibility': 7.401486830834377e-17, 'dual infeasibility': 8.000000064507973e-09, 'primal slack': 1.0000000000000002, 'dual slack': 1.0000000000000035e-08, 'iterations': 4}\n",
      "[-1.00e+00]\n",
      "[ 1.00e+00]\n",
      "\n",
      "1.0\n"
     ]
    }
   ],
   "source": [
    "import cvxopt\n",
    "from cvxopt import matrix\n",
    "import numpy as np\n",
    "\n",
    "P = matrix(np.diag([1.0, -1.0]))\n",
    "q = matrix(np.array([3.0, 4.0]))\n",
    "A = matrix(np.array([[-1.0, 0.0],[2.0,3.0]]).astype(np.float))\n",
    "b = matrix(np.array([1.0,1.0]))\n",
    "G = matrix(np.array([[-2.0, 0.0]]).astype(np.float))\n",
    "h = matrix(np.array([3.0]))\n",
    "\n",
    "sol = cvxopt.solvers.qp(P,q, A=A, b=b,G=G, h=h)\n",
    "print(sol)\n",
    "print(sol['x'])\n",
    "print(sol['primal objective'])"
   ]
  },
  {
   "cell_type": "markdown",
   "metadata": {},
   "source": []
  },
  {
   "cell_type": "code",
   "execution_count": 3,
   "metadata": {
    "collapsed": false
   },
   "outputs": [
    {
     "name": "stdout",
     "output_type": "stream",
     "text": [
      "status: optimal\n",
      "optimal value 1.0\n",
      "optimal value 1.0 1.570086213240983e-22\n"
     ]
    }
   ],
   "source": [
    "import cvxpy as cp\n",
    "\n",
    "# Create 2 scalar optimization value\n",
    "x = cp.Variable()\n",
    "y = cp.Variable()\n",
    "\n",
    "# Create 2 constrains\n",
    "constrains = [ (x + y) == 1,\n",
    "               (x - y) >= 1]\n",
    "\n",
    "# Form objective(目的関数・コスト関数)\n",
    "cost = (x- y)**2\n",
    "obj = cp.Minimize(cost)\n",
    "\n",
    "# Form and solve problem\n",
    "prob = cp.Problem(obj, constrains)\n",
    "prob.solve()\n",
    "\n",
    "# Result\n",
    "print(\"status:\", prob.status)\n",
    "print(\"optimal value\", prob.value)\n",
    "print(\"optimal value\", x.value, y.value)\n"
   ]
  },
  {
   "cell_type": "code",
   "execution_count": 4,
   "metadata": {
    "collapsed": false
   },
   "outputs": [
    {
     "name": "stdout",
     "output_type": "stream",
     "text": [
      "status: unbounded\n",
      "optimal value -inf\n",
      "optimal value 1.0 1.570086213240983e-22\n"
     ]
    }
   ],
   "source": [
    "import cvxpy as vp\n",
    "\n",
    "# Creaate 2 scalar optimization value\n",
    "x1 = cp.Variable()\n",
    "x2 = cp.Variable()\n",
    "\n",
    "# Create 2 constraints\n",
    "constraints = [(x1 + x2) == 1,\n",
    "               (x1 - x2) >= 1]\n",
    "\n",
    "# Form objective\n",
    "cost = -x1+x2\n",
    "obj = cp.Minimize(cost)\n",
    "\n",
    "# Form and solve problem\n",
    "prob = cp.Problem(obj, constraints)\n",
    "prob.solve()\n",
    "\n",
    "# Result\n",
    "print(\"status:\", prob.status)\n",
    "print(\"optimal value\", prob.value)\n",
    "print(\"optimal value\", x.value, y.value)"
   ]
  },
  {
   "cell_type": "code",
   "execution_count": 5,
   "metadata": {
    "collapsed": false
   },
   "outputs": [
    {
     "name": "stdout",
     "output_type": "stream",
     "text": [
      "status: optimal\n",
      "optimal value 0.5000000000000002\n",
      "optimal value 0.5000000000000001 0.5000000000000001\n"
     ]
    }
   ],
   "source": [
    "import cvxpy as cp\n",
    "\n",
    "# Create Variables\n",
    "x = cp.Variable()\n",
    "y = cp.Variable()\n",
    "\n",
    "# Create constraints\n",
    "constraints = [(x + y) >= 1]\n",
    "\n",
    "# Cost function\n",
    "cost = x**2 + y**2\n",
    "# Form objective\n",
    "obj = cp.Minimize(cost)\n",
    "\n",
    "# Form and solve problem\n",
    "prob = cp.Problem(obj,constraints)\n",
    "prob.solve()\n",
    "\n",
    "# Result\n",
    "print(\"status:\", prob.status)\n",
    "print(\"optimal value\", prob.value)\n",
    "print(\"optimal value\", x.value, y.value)\n"
   ]
  },
  {
   "cell_type": "code",
   "execution_count": 6,
   "metadata": {
    "collapsed": false
   },
   "outputs": [
    {
     "name": "stdout",
     "output_type": "stream",
     "text": [
      "status: optimal\n",
      "optimal value 3.000000000000001\n",
      "optimal value 5.0 0.0\n"
     ]
    }
   ],
   "source": [
    "\n",
    "import cvxpy as cp\n",
    "\n",
    "# Create Variables\n",
    "x1 = cp.Variable()\n",
    "x2 = cp.Variable()\n",
    "\n",
    "# Create constraints\n",
    "constraints = [x1 <= 5,\n",
    "               -x1<= 5,\n",
    "               x2 <= 5,\n",
    "               -x2<= 5]\n",
    "\n",
    "# Cost\n",
    "cost = (x1 - 6)**2 + 2+x2**2\n",
    "# objective\n",
    "obj = cp.Minimize(cost)\n",
    "\n",
    "# Form and solve problem\n",
    "prob = cp.Problem(obj, constraints)\n",
    "prob.solve()\n",
    "\n",
    "# Result\n",
    "print(\"status:\", prob.status)\n",
    "print(\"optimal value\", prob.value)\n",
    "print(\"optimal value\", x1.value, x2.value)\n"
   ]
  },
  {
   "cell_type": "markdown",
   "metadata": {},
   "source": [
    "# Model predoctive control with cvxpy"
   ]
  },
  {
   "cell_type": "code",
   "execution_count": 7,
   "metadata": {
    "collapsed": false
   },
   "outputs": [
    {
     "name": "stdout",
     "output_type": "stream",
     "text": [
      "Simulation start\n",
      "-----------------------------------------------------------------\n",
      "           OSQP v0.5.0  -  Operator Splitting QP Solver\n",
      "              (c) Bartolomeo Stellato,  Goran Banjac\n",
      "        University of Oxford  -  Stanford University 2018\n",
      "-----------------------------------------------------------------\n",
      "problem:  variables n = 654, constraints m = 750\n",
      "          nnz(P) + nnz(A) = 2750\n",
      "settings: linear system solver = qdldl,\n",
      "          eps_abs = 1.0e-04, eps_rel = 1.0e-04,\n",
      "          eps_prim_inf = 1.0e-04, eps_dual_inf = 1.0e-04,\n",
      "          rho = 1.00e-01 (adaptive),\n",
      "          sigma = 1.00e-06, alpha = 1.60, max_iter = 10000\n",
      "          check_termination: on (interval 25),\n",
      "          scaling: on, scaled_termination: off\n",
      "          warm start: on, polish: on\n",
      "\n",
      "objective    pri res    dua res    rho        time\n",
      "   1   0.0000e+00   0.00e+00   0.00e+00   1.00e-01   5.90e-04s\n",
      "  25   0.0000e+00   0.00e+00   0.00e+00   1.00e-01   1.31e-03s\n",
      "\n",
      "status:               solved\n",
      "solution polish:      unsuccessful\n",
      "number of iterations: 25\n",
      "optimal objective:    0.0000\n",
      "run time:             1.46e-03s\n",
      "optimal rho estimate: 1.00e-06\n",
      "\n",
      "calc time:0.35805487632751465 [s]\n"
     ]
    },
    {
     "ename": "IndexError",
     "evalue": "too many indices for array",
     "output_type": "error",
     "traceback": [
      "\u001b[1;31m---------------------------------------------------------------------------\u001b[0m",
      "\u001b[1;31mIndexError\u001b[0m                                Traceback (most recent call last)",
      "\u001b[1;32m<ipython-input-7-12de48992ffb>\u001b[0m in \u001b[0;36m<module>\u001b[1;34m\u001b[0m\n\u001b[0;32m     46\u001b[0m \u001b[0mf\u001b[0m \u001b[1;33m=\u001b[0m \u001b[0mplt\u001b[0m\u001b[1;33m.\u001b[0m\u001b[0mfigure\u001b[0m\u001b[1;33m(\u001b[0m\u001b[1;33m)\u001b[0m\u001b[1;33m\u001b[0m\u001b[1;33m\u001b[0m\u001b[0m\n\u001b[0;32m     47\u001b[0m \u001b[0max\u001b[0m \u001b[1;33m=\u001b[0m \u001b[0mf\u001b[0m\u001b[1;33m.\u001b[0m\u001b[0madd_subplot\u001b[0m\u001b[1;33m(\u001b[0m\u001b[1;36m211\u001b[0m\u001b[1;33m)\u001b[0m\u001b[1;33m\u001b[0m\u001b[1;33m\u001b[0m\u001b[0m\n\u001b[1;32m---> 48\u001b[1;33m \u001b[0mu1\u001b[0m\u001b[1;33m=\u001b[0m\u001b[0mnp\u001b[0m\u001b[1;33m.\u001b[0m\u001b[0marray\u001b[0m\u001b[1;33m(\u001b[0m\u001b[0mu\u001b[0m\u001b[1;33m[\u001b[0m\u001b[1;36m0\u001b[0m\u001b[1;33m,\u001b[0m\u001b[1;33m:\u001b[0m\u001b[1;33m]\u001b[0m\u001b[1;33m.\u001b[0m\u001b[0mvalue\u001b[0m\u001b[1;33m[\u001b[0m\u001b[1;36m0\u001b[0m\u001b[1;33m,\u001b[0m\u001b[1;33m:\u001b[0m\u001b[1;33m]\u001b[0m\u001b[1;33m)\u001b[0m\u001b[1;33m[\u001b[0m\u001b[1;36m0\u001b[0m\u001b[1;33m]\u001b[0m\u001b[1;33m.\u001b[0m\u001b[0mtolist\u001b[0m\u001b[1;33m(\u001b[0m\u001b[1;33m)\u001b[0m\u001b[1;33m\u001b[0m\u001b[1;33m\u001b[0m\u001b[0m\n\u001b[0m\u001b[0;32m     49\u001b[0m \u001b[0mu2\u001b[0m\u001b[1;33m=\u001b[0m\u001b[0mnp\u001b[0m\u001b[1;33m.\u001b[0m\u001b[0marray\u001b[0m\u001b[1;33m(\u001b[0m\u001b[0mu\u001b[0m\u001b[1;33m[\u001b[0m\u001b[1;36m1\u001b[0m\u001b[1;33m,\u001b[0m\u001b[1;33m:\u001b[0m\u001b[1;33m]\u001b[0m\u001b[1;33m.\u001b[0m\u001b[0mvalue\u001b[0m\u001b[1;33m[\u001b[0m\u001b[1;36m0\u001b[0m\u001b[1;33m,\u001b[0m\u001b[1;33m:\u001b[0m\u001b[1;33m]\u001b[0m\u001b[1;33m)\u001b[0m\u001b[1;33m[\u001b[0m\u001b[1;36m0\u001b[0m\u001b[1;33m]\u001b[0m\u001b[1;33m.\u001b[0m\u001b[0mtolist\u001b[0m\u001b[1;33m(\u001b[0m\u001b[1;33m)\u001b[0m\u001b[1;33m\u001b[0m\u001b[1;33m\u001b[0m\u001b[0m\n\u001b[0;32m     50\u001b[0m \u001b[0mplt\u001b[0m\u001b[1;33m.\u001b[0m\u001b[0mplot\u001b[0m\u001b[1;33m(\u001b[0m\u001b[0mu1\u001b[0m\u001b[1;33m,\u001b[0m\u001b[1;34m'-r'\u001b[0m\u001b[1;33m,\u001b[0m\u001b[0mlabel\u001b[0m\u001b[1;33m=\u001b[0m\u001b[1;34m\"u1\"\u001b[0m\u001b[1;33m)\u001b[0m\u001b[1;33m\u001b[0m\u001b[1;33m\u001b[0m\u001b[0m\n",
      "\u001b[1;31mIndexError\u001b[0m: too many indices for array"
     ]
    }
   ],
   "source": [
    "import time\n",
    "from cvxpy import *\n",
    "import numpy as np\n",
    "import matplotlib.pyplot as plt\n",
    "print(\"Simulation start\")\n",
    "\n",
    "np.random.seed(1)\n",
    "n = 4   #state size\n",
    "m = 2   #input size\n",
    "T = 50  #number of horizon\n",
    "\n",
    "#simulation parameter\n",
    "alpha = 0.2\n",
    "beta = 5.0\n",
    "\n",
    "# Model Parameter\n",
    "A = np.eye(n) + alpha*np.random.randn(n,n)\n",
    "B = np.random.randn(n,m)\n",
    "x_0 = beta*np.random.randn(n,1)\n",
    "\n",
    "x = cp.Variable(shape=(n, T+1))\n",
    "u = cp.Variable(shape=(m, T))\n",
    "\n",
    "states = []\n",
    "for t in range(T):\n",
    "    cost = sum_squares(x[:,t+1]) + sum_squares(u[:,t])\n",
    "    constr = [x[:,t+1] == A*x[:,t] + B*u[:,t],\n",
    "              norm(u[:,t], 'inf') <= 1]\n",
    "    states.append( Problem(Minimize(cost), constr) )\n",
    "# sums problem objectives and concatenates constraints.\n",
    "prob = sum(states)\n",
    "#prob.constraints = [x[:,0] == x_0]\n",
    "#prob.constraints += [x[:,T+1] == 0,\n",
    "#                     x[:,0] == x_0]\n",
    "\n",
    "start = time.time()\n",
    "result=prob.solve(verbose=True)\n",
    "elapsed_time = time.time() - start\n",
    "print (\"calc time:{} [s]\".format(elapsed_time))\n",
    "\n",
    "if result == float(\"inf\"):\n",
    "    print(\"Cannot optimize\")\n",
    "    import sys\n",
    "    sys.exit()\n",
    "\n",
    "f = plt.figure()\n",
    "ax = f.add_subplot(211)\n",
    "u1=np.array(u[0,:].value[0,:])[0].tolist()\n",
    "u2=np.array(u[1,:].value[0,:])[0].tolist()\n",
    "plt.plot(u1,'-r',label=\"u1\")\n",
    "plt.plot(u2,'-b',label=\"u2\")\n",
    "plt.ylabel(r\"$u_t$\", fontsize=16)\n",
    "plt.yticks(np.linspace(-1.0, 1.0, 3))\n",
    "plt.legend()\n",
    "plt.grid(True)\n",
    "\n",
    "plt.subplot(2,1,2)\n",
    "x1=np.array(x[0,:].value[0,:])[0].tolist()\n",
    "x2=np.array(x[1,:].value[0,:])[0].tolist()\n",
    "x3=np.array(x[2,:].value[0,:])[0].tolist()\n",
    "x4=np.array(x[3,:].value[0,:])[0].tolist()\n",
    "plt.plot(range(T+1), x1,'-r',label=\"x1\")\n",
    "plt.plot(range(T+1), x2,'-b',label=\"x2\")\n",
    "plt.plot(range(T+1), x3,'-g',label=\"x3\")\n",
    "plt.plot(range(T+1), x4,'-k',label=\"x4\")\n",
    "plt.yticks([-25, 0, 25])\n",
    "plt.ylim([-25, 25])\n",
    "plt.ylabel(r\"$x_t$\", fontsize=16)\n",
    "plt.xlabel(r\"$t$\", fontsize=16)\n",
    "plt.grid(True)\n",
    "plt.legend()\n",
    "plt.tight_layout()\n",
    "plt.show()"
   ]
  },
  {
   "cell_type": "code",
   "execution_count": 148,
   "metadata": {
    "collapsed": false
   },
   "outputs": [],
   "source": [
    "import time\n",
    "import cvxpy as cp\n",
    "import numpy as np\n",
    "import matplotlib.pyplot as plt\n",
    "\n",
    "n_state = 4   # 状態の数\n",
    "m_state = 1   # 制御入力の数\n",
    "T = 100  # 何ステップ先まで予測するかを決める\n",
    "\n",
    "#simulation parameter\n",
    "delta_t = 0.01\n",
    "\n",
    "M = 1.0  # [kg]\n",
    "m = 0.3  # [kg]\n",
    "g = 9.8  # [m/s^2]\n",
    "l = 0.6  # [m]\n",
    "\n",
    "# Model Parameter\n",
    "A = np.array([\n",
    "    [0.0, 1.0, 0.0, 0.0],\n",
    "    [0.0, 0.0, m * g / M, 0.0],\n",
    "    [0.0, 0.0, 0.0, 1.0],\n",
    "    [0.0, 0.0, g * (M + m) / (l * M), 0.0]\n",
    "    ])\n",
    "A = np.eye(n_state) + delta_t * A\n",
    "\n",
    "B = np.array([\n",
    "    [0.0],\n",
    "    [1.0 / M],\n",
    "    [0.0],\n",
    "    [1.0 / (l * M)]\n",
    "    ])\n",
    "B = delta_t * B\n",
    "\n",
    "# 倒立振子の初期状態\n",
    "# 今回はすべてが0に収束するよう目指す\n",
    "\"\"\" \n",
    "# もとの行列だと次元の違いでエラーになる\n",
    "x0 = np.array([\n",
    "    [-0.02],\n",
    "    [0.0],\n",
    "    [0.02],\n",
    "    [0.0]\n",
    "    ])\n",
    "\"\"\"\n",
    "x0 = np.array([-0.02, 0.0, 0.02,0.0])\n",
    "#x0.shape"
   ]
  },
  {
   "cell_type": "code",
   "execution_count": null,
   "metadata": {
    "collapsed": false
   },
   "outputs": [],
   "source": [
    "x = cp.Variable((n_state, T+1))\n",
    "u = cp.Variable((m_state, T))\n",
    "\n",
    "cost_arr_Q = np.array([\n",
    "    [1.0, 0.0, 0.0, 0.0],\n",
    "    [0.0, 1.0, 0.0, 0.0],\n",
    "    [0.0, 0.0, 0.1, 0.0],\n",
    "    [0.0, 0.0, 0.0, 0.1]\n",
    "    ])\n",
    "\n",
    "cost_arr_R = np.array([0.1, 0.1, 0.1, 0.1])\n",
    "\n",
    "#states = []\n",
    "for pred_step in range(T):\n",
    "    # コスト関数の値が小さくなるような配列uを求める\n",
    "    # cost += cp.sum_squares(cost_arr@x[:,pred_step+1]) + sum_squares(0.1*u[:,pred_step])\n",
    "    cost += cp.sum_squares(cost_arr@x[:,pred_step+1]) + sum_squares(cost_arr_R@u[:,pred_step])\n",
    "\n",
    "    # 制約式（線形方程式と制御入力の限界値）を与える\n",
    "    constraints += [x[:,t+1] == A@x[:,t] + B@u[:,t], # 状態方程式の制約\n",
    "                    cp.norm(u[:,t], 'inf') <= 20.0]  # 入力制限の制約\n",
    "     \n",
    "    # Push formed problems\n",
    "    #states.append(prob)\n",
    "    #states.append( Problem(Minimize(cost), constraints) )\n",
    "\n",
    "# sums problem objectives and concatenates constraints.\n",
    "constraints += [x[:,T] == 0, x[:,0] == x0]\n",
    "\n",
    "# 最適化の目的関数\n",
    "obj = cp.Minimize(cost)\n",
    "# Form problem\n",
    "prob = cp.Problem(obj, constraints)\n",
    "\n",
    "# sums problem objectives and concatenates constraints.\n",
    "#prob = cp.sum(states)\n",
    "# 制約をさらに2つ追加する\n",
    "# 最後の状態(Tステップ後の状態)はすべてが0、すなわち理想の状態とすること\n",
    "# そして、現在の状態x0は事実としてあるので、制約となる\n",
    "#prob.constraints += [x[:,T] == 0, x[:,0:1] == x0]\n",
    "#prob.constraints += [x[:,T] == 0]\n",
    "#prob.constraints += [x[:,0:1] == x0]\n",
    "\n",
    "start = time.time()\n",
    "result=prob.solve(verbose=False)\n",
    "elapsed_time = time.time() - start\n",
    "print(\"calc time:{0} [sec]\".format(elapsed_time))\n",
    "\n",
    "# 発散した場合は制御不能として終了\n",
    "if result == float(\"inf\"):\n",
    "    print(\"Cannot optimize\")\n",
    "    import sys\n",
    "    sys.exit()\n",
    "    \n",
    "# Result\n",
    "print(\"status:\", prob.status)\n",
    "print(\"optimal value\", prob.value)\n",
    "print(\"optimal value\", u[:,0].value, u[:,T-1].value)"
   ]
  },
  {
   "cell_type": "code",
   "execution_count": 111,
   "metadata": {
    "collapsed": false
   },
   "outputs": [
    {
     "data": {
      "text/plain": [
       "(4, 1)"
      ]
     },
     "execution_count": 111,
     "metadata": {},
     "output_type": "execute_result"
    }
   ],
   "source": [
    "x[:,0:1].shape"
   ]
  },
  {
   "cell_type": "code",
   "execution_count": 135,
   "metadata": {
    "collapsed": true
   },
   "outputs": [],
   "source": [
    "# Generate data for control problem.\n",
    "import numpy as np\n",
    "np.random.seed(1)\n",
    "n = 8\n",
    "m = 2\n",
    "T = 50\n",
    "alpha = 0.2\n",
    "beta = 5\n",
    "A = np.eye(n) + alpha*np.random.randn(n,n)\n",
    "B = np.random.randn(n,m)\n",
    "x_0 = beta*np.random.randn(n)"
   ]
  },
  {
   "cell_type": "code",
   "execution_count": 137,
   "metadata": {
    "collapsed": false
   },
   "outputs": [
    {
     "data": {
      "text/plain": [
       "64470.57722638684"
      ]
     },
     "execution_count": 137,
     "metadata": {},
     "output_type": "execute_result"
    }
   ],
   "source": [
    "# Form and solve control problem.\n",
    "import cvxpy as cp\n",
    "\n",
    "\n",
    "x = cp.Variable((n, T+1))\n",
    "u = cp.Variable((m, T))\n",
    "\n",
    "cost = 0\n",
    "constr = []\n",
    "for t in range(T):\n",
    "    cost += cp.sum_squares(x[:,t+1]) + cp.sum_squares(u[:,t])\n",
    "    constr += [x[:,t+1] == A@x[:,t] + B@u[:,t],\n",
    "               cp.norm(u[:,t], 'inf') <= 1]\n",
    "# sums problem objectives and concatenates constraints.\n",
    "constr += [x[:,T] == 0, x[:,0] == x_0]\n",
    "problem = cp.Problem(cp.Minimize(cost), constr)\n",
    "problem.solve(solver=cp.ECOS)"
   ]
  },
  {
   "cell_type": "code",
   "execution_count": null,
   "metadata": {
    "collapsed": true
   },
   "outputs": [],
   "source": [
    "\"\"\"\n",
    "# Plot results.\n",
    "import matplotlib.pyplot as plt\n",
    "%matplotlib inline\n",
    "%config InlineBackend.figure_format = 'svg'\n",
    "\n",
    "f = plt.figure()\n",
    "\n",
    "# Plot (u_t)_1.\n",
    "ax = f.add_subplot(411)\n",
    "plt.plot(u[0,:].value)\n",
    "plt.ylabel(r\"$(u_t)_1$\", fontsize=16)\n",
    "plt.yticks(np.linspace(-1.0, 1.0, 3))\n",
    "plt.xticks([])\n",
    "\n",
    "# Plot (u_t)_2.\n",
    "plt.subplot(4,1,2)\n",
    "plt.plot(u[1,:].value)\n",
    "plt.ylabel(r\"$(u_t)_2$\", fontsize=16)\n",
    "plt.yticks(np.linspace(-1, 1, 3))\n",
    "plt.xticks([])\n",
    "\n",
    "# Plot (x_t)_1.\n",
    "plt.subplot(4,1,3)\n",
    "x1 = x[0,:].value\n",
    "plt.plot(x1)\n",
    "plt.ylabel(r\"$(x_t)_1$\", fontsize=16)\n",
    "plt.yticks([-10, 0, 10])\n",
    "plt.ylim([-10, 10])\n",
    "plt.xticks([])\n",
    "\n",
    "# Plot (x_t)_2.\n",
    "plt.subplot(4,1,4)\n",
    "x2 = x[1,:].value\n",
    "plt.plot(range(51), x2)\n",
    "plt.yticks([-25, 0, 25])\n",
    "plt.ylim([-25, 25])\n",
    "plt.ylabel(r\"$(x_t)_2$\", fontsize=16)\n",
    "plt.xlabel(r\"$t$\", fontsize=16)\n",
    "plt.tight_layout()\n",
    "plt.show()\n",
    "\"\"\""
   ]
  },
  {
   "cell_type": "code",
   "execution_count": 125,
   "metadata": {
    "collapsed": false
   },
   "outputs": [
    {
     "name": "stdout",
     "output_type": "stream",
     "text": [
      "var104627[0:4, 0] == [[-0.02]\n",
      " [ 0.  ]\n",
      " [ 0.02]\n",
      " [ 0.  ]]\n"
     ]
    }
   ],
   "source": [
    "print( x[:,0:1] == x0)"
   ]
  },
  {
   "cell_type": "code",
   "execution_count": 138,
   "metadata": {
    "collapsed": false
   },
   "outputs": [
    {
     "data": {
      "text/plain": [
       "(8,)"
      ]
     },
     "execution_count": 138,
     "metadata": {},
     "output_type": "execute_result"
    }
   ],
   "source": [
    "x_0.shape"
   ]
  },
  {
   "cell_type": "code",
   "execution_count": 139,
   "metadata": {
    "collapsed": false
   },
   "outputs": [
    {
     "data": {
      "text/plain": [
       "(8,)"
      ]
     },
     "execution_count": 139,
     "metadata": {},
     "output_type": "execute_result"
    }
   ],
   "source": [
    "x[:,0].shape"
   ]
  },
  {
   "cell_type": "code",
   "execution_count": 140,
   "metadata": {
    "collapsed": false
   },
   "outputs": [
    {
     "data": {
      "text/plain": [
       "array([-1.11164071, -1.00379034,  0.93280695,  2.05025824,  0.9914986 ,\n",
       "        0.59504323, -3.35331143,  1.88781893])"
      ]
     },
     "execution_count": 140,
     "metadata": {},
     "output_type": "execute_result"
    }
   ],
   "source": [
    "x_0"
   ]
  },
  {
   "cell_type": "code",
   "execution_count": 59,
   "metadata": {
    "collapsed": false
   },
   "outputs": [
    {
     "ename": "ModuleNotFoundError",
     "evalue": "No module named 'matplotrecorder'",
     "output_type": "error",
     "traceback": [
      "\u001b[1;31m---------------------------------------------------------------------------\u001b[0m",
      "\u001b[1;31mModuleNotFoundError\u001b[0m                       Traceback (most recent call last)",
      "\u001b[1;32m<ipython-input-59-2c80727aca9c>\u001b[0m in \u001b[0;36m<module>\u001b[1;34m\u001b[0m\n\u001b[0;32m      4\u001b[0m \u001b[1;32mimport\u001b[0m \u001b[0mtime\u001b[0m\u001b[1;33m\u001b[0m\u001b[1;33m\u001b[0m\u001b[0m\n\u001b[0;32m      5\u001b[0m \u001b[1;32mimport\u001b[0m \u001b[0mcvxpy\u001b[0m\u001b[1;33m\u001b[0m\u001b[1;33m\u001b[0m\u001b[0m\n\u001b[1;32m----> 6\u001b[1;33m \u001b[1;32mfrom\u001b[0m \u001b[0mmatplotrecorder\u001b[0m \u001b[1;32mimport\u001b[0m \u001b[0mmatplotrecorder\u001b[0m\u001b[1;33m\u001b[0m\u001b[1;33m\u001b[0m\u001b[0m\n\u001b[0m\u001b[0;32m      7\u001b[0m \u001b[0mget_ipython\u001b[0m\u001b[1;33m(\u001b[0m\u001b[1;33m)\u001b[0m\u001b[1;33m.\u001b[0m\u001b[0mrun_line_magic\u001b[0m\u001b[1;33m(\u001b[0m\u001b[1;34m'inline'\u001b[0m\u001b[1;33m,\u001b[0m \u001b[1;34m'matplotllib'\u001b[0m\u001b[1;33m)\u001b[0m\u001b[1;33m\u001b[0m\u001b[1;33m\u001b[0m\u001b[0m\n\u001b[0;32m      8\u001b[0m \u001b[1;33m\u001b[0m\u001b[0m\n",
      "\u001b[1;31mModuleNotFoundError\u001b[0m: No module named 'matplotrecorder'"
     ]
    }
   ],
   "source": [
    "import matplotlib.pyplot as plt\n",
    "import numpy as np\n",
    "import math\n",
    "import time\n",
    "import cvxpy\n",
    "from matplotrecorder import matplotrecorder\n",
    "%inline matplotllib\n",
    "\n",
    "l_bar = 2.0  # length of bar\n",
    "M = 1.0  # [kg]\n",
    "m = 0.3  # [kg]\n",
    "g = 9.8  # [m/s^2]\n",
    "\n",
    "Q = np.diag([0.0, 1.0, 1.0, 0.0])\n",
    "R = np.diag([0.01])\n",
    "nx = 4\n",
    "nu = 1   \n",
    "T = 30  \n",
    "delta_t = 0.1\n",
    "\n",
    "animation = False\n",
    "\n",
    "\n",
    "def main():\n",
    "    x0 = np.array([\n",
    "        [0.0],\n",
    "        [0.0],\n",
    "        [0.3],\n",
    "        [0.0]\n",
    "    ])\n",
    "\n",
    "    x = np.copy(x0)\n",
    "\n",
    "    for i in range(50):\n",
    "\n",
    "        ox, dx, otheta, dtheta, ou = mpc_control(x)\n",
    "        u = ou[0]\n",
    "        x = simulation(x, u)\n",
    "        print(i)\n",
    "        print(x)\n",
    "        print(u)\n",
    "\n",
    "        plt.clf()\n",
    "        px = float(x[0])\n",
    "        theta = float(x[2])\n",
    "        show_cart(px, theta)\n",
    "        plt.xlim([-5.0, 2.0])\n",
    "        plt.pause(0.001)\n",
    "\n",
    "        if animation:\n",
    "            matplotrecorder.save_frame()\n",
    "\n",
    "    if animation:\n",
    "        matplotrecorder.save_movie(\"animation.gif\", 0.1)\n",
    "\n",
    "\n",
    "def simulation(x, u):\n",
    "\n",
    "    A, B = get_model_matrix()\n",
    "\n",
    "    x = np.dot(A, x) + np.dot(B, u)\n",
    "\n",
    "    return x\n",
    "\n",
    "\n",
    "def mpc_control(x0):\n",
    "\n",
    "    x = cvxpy.Variable(nx, T + 1)\n",
    "    u = cvxpy.Variable(nu, T)\n",
    "\n",
    "    A, B = get_model_matrix()\n",
    "\n",
    "    cost = 0.0\n",
    "    constr = []\n",
    "    for t in range(T):\n",
    "        cost += cvxpy.quad_form(x[:, t + 1], Q)\n",
    "        cost += cvxpy.quad_form(u[:, t], R)\n",
    "        constr += [x[:, t + 1] == A * x[:, t] + B * u[:, t]]\n",
    "    constr += [x[:, 0] == x0]\n",
    "    prob = cvxpy.Problem(cvxpy.Minimize(cost), constr)\n",
    "\n",
    "    start = time.time()\n",
    "    prob.solve(verbose=False)\n",
    "    elapsed_time = time.time() - start\n",
    "    print(\"calc time:{0} [sec]\".format(elapsed_time))\n",
    "\n",
    "    if prob.status == cvxpy.OPTIMAL:\n",
    "        ox = get_nparray_from_matrix(x.value[0, :])\n",
    "        dx = get_nparray_from_matrix(x.value[1, :])\n",
    "        theta = get_nparray_from_matrix(x.value[2, :])\n",
    "        dtheta = get_nparray_from_matrix(x.value[3, :])\n",
    "\n",
    "        ou = get_nparray_from_matrix(u.value[0, :])\n",
    "\n",
    "    return ox, dx, theta, dtheta, ou\n",
    "\n",
    "\n",
    "def get_nparray_from_matrix(x):\n",
    "    u\"\"\"\n",
    "    get build-in list from matrix\n",
    "    \"\"\"\n",
    "    return np.array(x).flatten()\n",
    "\n",
    "\n",
    "def get_model_matrix():\n",
    "\n",
    "    # Model Parameter\n",
    "    A = np.array([\n",
    "        [0.0, 1.0, 0.0, 0.0],\n",
    "        [0.0, 0.0, m * g / M, 0.0],\n",
    "        [0.0, 0.0, 0.0, 1.0],\n",
    "        [0.0, 0.0, g * (M + m) / (l_bar * M), 0.0]\n",
    "    ])\n",
    "    A = np.eye(nx) + delta_t * A\n",
    "\n",
    "    B = np.array([\n",
    "        [0.0],\n",
    "        [1.0 / M],\n",
    "        [0.0],\n",
    "        [1.0 / (l_bar * M)]\n",
    "    ])\n",
    "    B = delta_t * B\n",
    "\n",
    "    return A, B\n",
    "\n",
    "\n",
    "def flatten(a):\n",
    "    return np.array(a).flatten()\n",
    "\n",
    "\n",
    "def show_cart(xt, theta):\n",
    "    cart_w = 1.0\n",
    "    cart_h = 0.5\n",
    "    radius = 0.1\n",
    "\n",
    "    cx = np.matrix([-cart_w / 2.0, cart_w / 2.0, cart_w /\n",
    "                    2.0, -cart_w / 2.0, -cart_w / 2.0])\n",
    "    cy = np.matrix([0.0, 0.0, cart_h, cart_h, 0.0])\n",
    "    cy += radius * 2.0\n",
    "\n",
    "    cx = cx + xt\n",
    "\n",
    "    bx = np.matrix([0.0, l_bar * math.sin(-theta)])\n",
    "    bx += xt\n",
    "    by = np.matrix([cart_h, l_bar * math.cos(-theta) + cart_h])\n",
    "    by += radius * 2.0\n",
    "\n",
    "    angles = np.arange(0.0, math.pi * 2.0, math.radians(3.0))\n",
    "    ox = [radius * math.cos(a) for a in angles]\n",
    "    oy = [radius * math.sin(a) for a in angles]\n",
    "\n",
    "    rwx = np.copy(ox) + cart_w / 4.0 + xt\n",
    "    rwy = np.copy(oy) + radius\n",
    "    lwx = np.copy(ox) - cart_w / 4.0 + xt\n",
    "    lwy = np.copy(oy) + radius\n",
    "\n",
    "    wx = np.copy(ox) + float(bx[0, -1])\n",
    "    wy = np.copy(oy) + float(by[0, -1])\n",
    "\n",
    "    plt.plot(flatten(cx), flatten(cy), \"-b\")\n",
    "    plt.plot(flatten(bx), flatten(by), \"-k\")\n",
    "    plt.plot(flatten(rwx), flatten(rwy), \"-k\")\n",
    "    plt.plot(flatten(lwx), flatten(lwy), \"-k\")\n",
    "    plt.plot(flatten(wx), flatten(wy), \"-k\")\n",
    "    plt.title(\"x:\" + str(round(xt, 2)) + \",theta:\" +\n",
    "              str(round(math.degrees(theta), 2)))\n",
    "\n",
    "    plt.axis(\"equal\")\n"
   ]
  },
  {
   "cell_type": "code",
   "execution_count": 67,
   "metadata": {
    "collapsed": true
   },
   "outputs": [],
   "source": [
    "l_bar = 2.0  # length of bar\n",
    "M = 1.0  # [kg]\n",
    "m = 0.3  # [kg]\n",
    "g = 9.8  # [m/s^2]\n",
    "\n",
    "Q = np.diag([0.0, 1.0, 1.0, 0.0])\n",
    "R = np.diag([0.01])\n",
    "nx = 4\n",
    "nu = 1   \n",
    "T = 30  \n",
    "delta_t = 0.1\n",
    "\n",
    "animation = False\n",
    "\n",
    "def get_model_matrix():\n",
    "\n",
    "    # Model Parameter\n",
    "    A = np.array([\n",
    "        [0.0, 1.0, 0.0, 0.0],\n",
    "        [0.0, 0.0, m * g / M, 0.0],\n",
    "        [0.0, 0.0, 0.0, 1.0],\n",
    "        [0.0, 0.0, g * (M + m) / (l_bar * M), 0.0]\n",
    "    ])\n",
    "    A = np.eye(nx) + delta_t * A\n",
    "\n",
    "    B = np.array([\n",
    "        [0.0],\n",
    "        [1.0 / M],\n",
    "        [0.0],\n",
    "        [1.0 / (l_bar * M)]\n",
    "    ])\n",
    "    B = delta_t * B\n",
    "\n",
    "    return A, B\n",
    "\n",
    "\n",
    "def mpc_control(x0):\n",
    "\n",
    "    x = cvxpy.Variable((nx, T + 1))\n",
    "    u = cvxpy.Variable((nu, T))\n",
    "\n",
    "    A, B = get_model_matrix()\n",
    "\n",
    "    cost = 0.0\n",
    "    constr = []\n",
    "    for t in range(T):\n",
    "        cost += cvxpy.quad_form(x[:, t + 1], Q)\n",
    "        cost += cvxpy.quad_form(u[:, t], R)\n",
    "        constr += [x[:, t + 1] == A * x[:, t] + B * u[:, t]]\n",
    "    constr += [x[:, 0] == x0]\n",
    "    prob = cvxpy.Problem(cvxpy.Minimize(cost), constr)\n",
    "\n",
    "    start = time.time()\n",
    "    prob.solve(verbose=False)\n",
    "    elapsed_time = time.time() - start\n",
    "    print(\"calc time:{0} [sec]\".format(elapsed_time))\n",
    "\n",
    "    if prob.status == cvxpy.OPTIMAL:\n",
    "        ox = get_nparray_from_matrix(x.value[0, :])\n",
    "        dx = get_nparray_from_matrix(x.value[1, :])\n",
    "        theta = get_nparray_from_matrix(x.value[2, :])\n",
    "        dtheta = get_nparray_from_matrix(x.value[3, :])\n",
    "\n",
    "        ou = get_nparray_from_matrix(u.value[0, :])\n",
    "\n",
    "    return ox, dx, theta, dtheta, ou\n"
   ]
  },
  {
   "cell_type": "code",
   "execution_count": 68,
   "metadata": {
    "collapsed": false
   },
   "outputs": [
    {
     "ename": "ValueError",
     "evalue": "Cannot broadcast dimensions  (4,) (4, 1)",
     "output_type": "error",
     "traceback": [
      "\u001b[1;31m---------------------------------------------------------------------------\u001b[0m",
      "\u001b[1;31mValueError\u001b[0m                                Traceback (most recent call last)",
      "\u001b[1;32m<ipython-input-68-33a102402e8a>\u001b[0m in \u001b[0;36m<module>\u001b[1;34m\u001b[0m\n\u001b[0;32m      6\u001b[0m     ])\n\u001b[0;32m      7\u001b[0m \u001b[1;33m\u001b[0m\u001b[0m\n\u001b[1;32m----> 8\u001b[1;33m \u001b[0mox\u001b[0m\u001b[1;33m,\u001b[0m \u001b[0mdx\u001b[0m\u001b[1;33m,\u001b[0m \u001b[0mtheta\u001b[0m\u001b[1;33m,\u001b[0m \u001b[0mdtheta\u001b[0m\u001b[1;33m,\u001b[0m \u001b[0mou\u001b[0m \u001b[1;33m=\u001b[0m \u001b[0mmpc_control\u001b[0m\u001b[1;33m(\u001b[0m\u001b[0mx0\u001b[0m\u001b[1;33m)\u001b[0m\u001b[1;33m\u001b[0m\u001b[1;33m\u001b[0m\u001b[0m\n\u001b[0m",
      "\u001b[1;32m<ipython-input-67-10a9383cf913>\u001b[0m in \u001b[0;36mmpc_control\u001b[1;34m(x0)\u001b[0m\n\u001b[0;32m     48\u001b[0m         \u001b[0mcost\u001b[0m \u001b[1;33m+=\u001b[0m \u001b[0mcvxpy\u001b[0m\u001b[1;33m.\u001b[0m\u001b[0mquad_form\u001b[0m\u001b[1;33m(\u001b[0m\u001b[0mu\u001b[0m\u001b[1;33m[\u001b[0m\u001b[1;33m:\u001b[0m\u001b[1;33m,\u001b[0m \u001b[0mt\u001b[0m\u001b[1;33m]\u001b[0m\u001b[1;33m,\u001b[0m \u001b[0mR\u001b[0m\u001b[1;33m)\u001b[0m\u001b[1;33m\u001b[0m\u001b[1;33m\u001b[0m\u001b[0m\n\u001b[0;32m     49\u001b[0m         \u001b[0mconstr\u001b[0m \u001b[1;33m+=\u001b[0m \u001b[1;33m[\u001b[0m\u001b[0mx\u001b[0m\u001b[1;33m[\u001b[0m\u001b[1;33m:\u001b[0m\u001b[1;33m,\u001b[0m \u001b[0mt\u001b[0m \u001b[1;33m+\u001b[0m \u001b[1;36m1\u001b[0m\u001b[1;33m]\u001b[0m \u001b[1;33m==\u001b[0m \u001b[0mA\u001b[0m \u001b[1;33m*\u001b[0m \u001b[0mx\u001b[0m\u001b[1;33m[\u001b[0m\u001b[1;33m:\u001b[0m\u001b[1;33m,\u001b[0m \u001b[0mt\u001b[0m\u001b[1;33m]\u001b[0m \u001b[1;33m+\u001b[0m \u001b[0mB\u001b[0m \u001b[1;33m*\u001b[0m \u001b[0mu\u001b[0m\u001b[1;33m[\u001b[0m\u001b[1;33m:\u001b[0m\u001b[1;33m,\u001b[0m \u001b[0mt\u001b[0m\u001b[1;33m]\u001b[0m\u001b[1;33m]\u001b[0m\u001b[1;33m\u001b[0m\u001b[1;33m\u001b[0m\u001b[0m\n\u001b[1;32m---> 50\u001b[1;33m     \u001b[0mconstr\u001b[0m \u001b[1;33m+=\u001b[0m \u001b[1;33m[\u001b[0m\u001b[0mx\u001b[0m\u001b[1;33m[\u001b[0m\u001b[1;33m:\u001b[0m\u001b[1;33m,\u001b[0m \u001b[1;36m0\u001b[0m\u001b[1;33m]\u001b[0m \u001b[1;33m==\u001b[0m \u001b[0mx0\u001b[0m\u001b[1;33m]\u001b[0m\u001b[1;33m\u001b[0m\u001b[1;33m\u001b[0m\u001b[0m\n\u001b[0m\u001b[0;32m     51\u001b[0m     \u001b[0mprob\u001b[0m \u001b[1;33m=\u001b[0m \u001b[0mcvxpy\u001b[0m\u001b[1;33m.\u001b[0m\u001b[0mProblem\u001b[0m\u001b[1;33m(\u001b[0m\u001b[0mcvxpy\u001b[0m\u001b[1;33m.\u001b[0m\u001b[0mMinimize\u001b[0m\u001b[1;33m(\u001b[0m\u001b[0mcost\u001b[0m\u001b[1;33m)\u001b[0m\u001b[1;33m,\u001b[0m \u001b[0mconstr\u001b[0m\u001b[1;33m)\u001b[0m\u001b[1;33m\u001b[0m\u001b[1;33m\u001b[0m\u001b[0m\n\u001b[0;32m     52\u001b[0m \u001b[1;33m\u001b[0m\u001b[0m\n",
      "\u001b[1;32m~\\Anaconda3\\envs\\RobotControl\\lib\\site-packages\\cvxpy\\expressions\\expression.py\u001b[0m in \u001b[0;36mcast_op\u001b[1;34m(self, other)\u001b[0m\n\u001b[0;32m     44\u001b[0m         \"\"\"\n\u001b[0;32m     45\u001b[0m         \u001b[0mother\u001b[0m \u001b[1;33m=\u001b[0m \u001b[0mself\u001b[0m\u001b[1;33m.\u001b[0m\u001b[0mcast_to_const\u001b[0m\u001b[1;33m(\u001b[0m\u001b[0mother\u001b[0m\u001b[1;33m)\u001b[0m\u001b[1;33m\u001b[0m\u001b[1;33m\u001b[0m\u001b[0m\n\u001b[1;32m---> 46\u001b[1;33m         \u001b[1;32mreturn\u001b[0m \u001b[0mbinary_op\u001b[0m\u001b[1;33m(\u001b[0m\u001b[0mself\u001b[0m\u001b[1;33m,\u001b[0m \u001b[0mother\u001b[0m\u001b[1;33m)\u001b[0m\u001b[1;33m\u001b[0m\u001b[1;33m\u001b[0m\u001b[0m\n\u001b[0m\u001b[0;32m     47\u001b[0m     \u001b[1;32mreturn\u001b[0m \u001b[0mcast_op\u001b[0m\u001b[1;33m\u001b[0m\u001b[1;33m\u001b[0m\u001b[0m\n\u001b[0;32m     48\u001b[0m \u001b[1;33m\u001b[0m\u001b[0m\n",
      "\u001b[1;32m~\\Anaconda3\\envs\\RobotControl\\lib\\site-packages\\cvxpy\\expressions\\expression.py\u001b[0m in \u001b[0;36m__eq__\u001b[1;34m(self, other)\u001b[0m\n\u001b[0;32m    573\u001b[0m         \"\"\"Equality : Creates a constraint ``self == other``.\n\u001b[0;32m    574\u001b[0m         \"\"\"\n\u001b[1;32m--> 575\u001b[1;33m         \u001b[1;32mreturn\u001b[0m \u001b[0mEquality\u001b[0m\u001b[1;33m(\u001b[0m\u001b[0mself\u001b[0m\u001b[1;33m,\u001b[0m \u001b[0mother\u001b[0m\u001b[1;33m)\u001b[0m\u001b[1;33m\u001b[0m\u001b[1;33m\u001b[0m\u001b[0m\n\u001b[0m\u001b[0;32m    576\u001b[0m \u001b[1;33m\u001b[0m\u001b[0m\n\u001b[0;32m    577\u001b[0m     \u001b[1;33m@\u001b[0m\u001b[0m_cast_other\u001b[0m\u001b[1;33m\u001b[0m\u001b[1;33m\u001b[0m\u001b[0m\n",
      "\u001b[1;32m~\\Anaconda3\\envs\\RobotControl\\lib\\site-packages\\cvxpy\\constraints\\zero.py\u001b[0m in \u001b[0;36m__init__\u001b[1;34m(self, lhs, rhs, constr_id)\u001b[0m\n\u001b[0;32m    112\u001b[0m     \"\"\"\n\u001b[0;32m    113\u001b[0m     \u001b[1;32mdef\u001b[0m \u001b[0m__init__\u001b[0m\u001b[1;33m(\u001b[0m\u001b[0mself\u001b[0m\u001b[1;33m,\u001b[0m \u001b[0mlhs\u001b[0m\u001b[1;33m,\u001b[0m \u001b[0mrhs\u001b[0m\u001b[1;33m,\u001b[0m \u001b[0mconstr_id\u001b[0m\u001b[1;33m=\u001b[0m\u001b[1;32mNone\u001b[0m\u001b[1;33m)\u001b[0m\u001b[1;33m:\u001b[0m\u001b[1;33m\u001b[0m\u001b[1;33m\u001b[0m\u001b[0m\n\u001b[1;32m--> 114\u001b[1;33m         \u001b[0mself\u001b[0m\u001b[1;33m.\u001b[0m\u001b[0m_expr\u001b[0m \u001b[1;33m=\u001b[0m \u001b[0mlhs\u001b[0m \u001b[1;33m-\u001b[0m \u001b[0mrhs\u001b[0m\u001b[1;33m\u001b[0m\u001b[1;33m\u001b[0m\u001b[0m\n\u001b[0m\u001b[0;32m    115\u001b[0m         \u001b[0msuper\u001b[0m\u001b[1;33m(\u001b[0m\u001b[0mEquality\u001b[0m\u001b[1;33m,\u001b[0m \u001b[0mself\u001b[0m\u001b[1;33m)\u001b[0m\u001b[1;33m.\u001b[0m\u001b[0m__init__\u001b[0m\u001b[1;33m(\u001b[0m\u001b[1;33m[\u001b[0m\u001b[0mlhs\u001b[0m\u001b[1;33m,\u001b[0m \u001b[0mrhs\u001b[0m\u001b[1;33m]\u001b[0m\u001b[1;33m,\u001b[0m \u001b[0mconstr_id\u001b[0m\u001b[1;33m)\u001b[0m\u001b[1;33m\u001b[0m\u001b[1;33m\u001b[0m\u001b[0m\n\u001b[0;32m    116\u001b[0m \u001b[1;33m\u001b[0m\u001b[0m\n",
      "\u001b[1;32m~\\Anaconda3\\envs\\RobotControl\\lib\\site-packages\\cvxpy\\expressions\\expression.py\u001b[0m in \u001b[0;36mcast_op\u001b[1;34m(self, other)\u001b[0m\n\u001b[0;32m     44\u001b[0m         \"\"\"\n\u001b[0;32m     45\u001b[0m         \u001b[0mother\u001b[0m \u001b[1;33m=\u001b[0m \u001b[0mself\u001b[0m\u001b[1;33m.\u001b[0m\u001b[0mcast_to_const\u001b[0m\u001b[1;33m(\u001b[0m\u001b[0mother\u001b[0m\u001b[1;33m)\u001b[0m\u001b[1;33m\u001b[0m\u001b[1;33m\u001b[0m\u001b[0m\n\u001b[1;32m---> 46\u001b[1;33m         \u001b[1;32mreturn\u001b[0m \u001b[0mbinary_op\u001b[0m\u001b[1;33m(\u001b[0m\u001b[0mself\u001b[0m\u001b[1;33m,\u001b[0m \u001b[0mother\u001b[0m\u001b[1;33m)\u001b[0m\u001b[1;33m\u001b[0m\u001b[1;33m\u001b[0m\u001b[0m\n\u001b[0m\u001b[0;32m     47\u001b[0m     \u001b[1;32mreturn\u001b[0m \u001b[0mcast_op\u001b[0m\u001b[1;33m\u001b[0m\u001b[1;33m\u001b[0m\u001b[0m\n\u001b[0;32m     48\u001b[0m \u001b[1;33m\u001b[0m\u001b[0m\n",
      "\u001b[1;32m~\\Anaconda3\\envs\\RobotControl\\lib\\site-packages\\cvxpy\\expressions\\expression.py\u001b[0m in \u001b[0;36m__sub__\u001b[1;34m(self, other)\u001b[0m\n\u001b[0;32m    462\u001b[0m         \"\"\"Expression : The difference of two expressions.\n\u001b[0;32m    463\u001b[0m         \"\"\"\n\u001b[1;32m--> 464\u001b[1;33m         \u001b[1;32mreturn\u001b[0m \u001b[0mself\u001b[0m \u001b[1;33m+\u001b[0m \u001b[1;33m-\u001b[0m\u001b[0mother\u001b[0m\u001b[1;33m\u001b[0m\u001b[1;33m\u001b[0m\u001b[0m\n\u001b[0m\u001b[0;32m    465\u001b[0m \u001b[1;33m\u001b[0m\u001b[0m\n\u001b[0;32m    466\u001b[0m     \u001b[1;33m@\u001b[0m\u001b[0m_cast_other\u001b[0m\u001b[1;33m\u001b[0m\u001b[1;33m\u001b[0m\u001b[0m\n",
      "\u001b[1;32m~\\Anaconda3\\envs\\RobotControl\\lib\\site-packages\\cvxpy\\expressions\\expression.py\u001b[0m in \u001b[0;36mcast_op\u001b[1;34m(self, other)\u001b[0m\n\u001b[0;32m     44\u001b[0m         \"\"\"\n\u001b[0;32m     45\u001b[0m         \u001b[0mother\u001b[0m \u001b[1;33m=\u001b[0m \u001b[0mself\u001b[0m\u001b[1;33m.\u001b[0m\u001b[0mcast_to_const\u001b[0m\u001b[1;33m(\u001b[0m\u001b[0mother\u001b[0m\u001b[1;33m)\u001b[0m\u001b[1;33m\u001b[0m\u001b[1;33m\u001b[0m\u001b[0m\n\u001b[1;32m---> 46\u001b[1;33m         \u001b[1;32mreturn\u001b[0m \u001b[0mbinary_op\u001b[0m\u001b[1;33m(\u001b[0m\u001b[0mself\u001b[0m\u001b[1;33m,\u001b[0m \u001b[0mother\u001b[0m\u001b[1;33m)\u001b[0m\u001b[1;33m\u001b[0m\u001b[1;33m\u001b[0m\u001b[0m\n\u001b[0m\u001b[0;32m     47\u001b[0m     \u001b[1;32mreturn\u001b[0m \u001b[0mcast_op\u001b[0m\u001b[1;33m\u001b[0m\u001b[1;33m\u001b[0m\u001b[0m\n\u001b[0;32m     48\u001b[0m \u001b[1;33m\u001b[0m\u001b[0m\n",
      "\u001b[1;32m~\\Anaconda3\\envs\\RobotControl\\lib\\site-packages\\cvxpy\\expressions\\expression.py\u001b[0m in \u001b[0;36m__add__\u001b[1;34m(self, other)\u001b[0m\n\u001b[0;32m    450\u001b[0m         \"\"\"Expression : Sum two expressions.\n\u001b[0;32m    451\u001b[0m         \"\"\"\n\u001b[1;32m--> 452\u001b[1;33m         \u001b[1;32mreturn\u001b[0m \u001b[0mcvxtypes\u001b[0m\u001b[1;33m.\u001b[0m\u001b[0madd_expr\u001b[0m\u001b[1;33m(\u001b[0m\u001b[1;33m)\u001b[0m\u001b[1;33m(\u001b[0m\u001b[1;33m[\u001b[0m\u001b[0mself\u001b[0m\u001b[1;33m,\u001b[0m \u001b[0mother\u001b[0m\u001b[1;33m]\u001b[0m\u001b[1;33m)\u001b[0m\u001b[1;33m\u001b[0m\u001b[1;33m\u001b[0m\u001b[0m\n\u001b[0m\u001b[0;32m    453\u001b[0m \u001b[1;33m\u001b[0m\u001b[0m\n\u001b[0;32m    454\u001b[0m     \u001b[1;33m@\u001b[0m\u001b[0m_cast_other\u001b[0m\u001b[1;33m\u001b[0m\u001b[1;33m\u001b[0m\u001b[0m\n",
      "\u001b[1;32m~\\Anaconda3\\envs\\RobotControl\\lib\\site-packages\\cvxpy\\atoms\\affine\\add_expr.py\u001b[0m in \u001b[0;36m__init__\u001b[1;34m(self, arg_groups)\u001b[0m\n\u001b[0;32m     31\u001b[0m         \u001b[1;31m# For efficiency group args as sums.\u001b[0m\u001b[1;33m\u001b[0m\u001b[1;33m\u001b[0m\u001b[1;33m\u001b[0m\u001b[0m\n\u001b[0;32m     32\u001b[0m         \u001b[0mself\u001b[0m\u001b[1;33m.\u001b[0m\u001b[0m_arg_groups\u001b[0m \u001b[1;33m=\u001b[0m \u001b[0marg_groups\u001b[0m\u001b[1;33m\u001b[0m\u001b[1;33m\u001b[0m\u001b[0m\n\u001b[1;32m---> 33\u001b[1;33m         \u001b[0msuper\u001b[0m\u001b[1;33m(\u001b[0m\u001b[0mAddExpression\u001b[0m\u001b[1;33m,\u001b[0m \u001b[0mself\u001b[0m\u001b[1;33m)\u001b[0m\u001b[1;33m.\u001b[0m\u001b[0m__init__\u001b[0m\u001b[1;33m(\u001b[0m\u001b[1;33m*\u001b[0m\u001b[0marg_groups\u001b[0m\u001b[1;33m)\u001b[0m\u001b[1;33m\u001b[0m\u001b[1;33m\u001b[0m\u001b[0m\n\u001b[0m\u001b[0;32m     34\u001b[0m         \u001b[0mself\u001b[0m\u001b[1;33m.\u001b[0m\u001b[0margs\u001b[0m \u001b[1;33m=\u001b[0m \u001b[1;33m[\u001b[0m\u001b[1;33m]\u001b[0m\u001b[1;33m\u001b[0m\u001b[1;33m\u001b[0m\u001b[0m\n\u001b[0;32m     35\u001b[0m         \u001b[1;32mfor\u001b[0m \u001b[0mgroup\u001b[0m \u001b[1;32min\u001b[0m \u001b[0marg_groups\u001b[0m\u001b[1;33m:\u001b[0m\u001b[1;33m\u001b[0m\u001b[1;33m\u001b[0m\u001b[0m\n",
      "\u001b[1;32m~\\Anaconda3\\envs\\RobotControl\\lib\\site-packages\\cvxpy\\atoms\\atom.py\u001b[0m in \u001b[0;36m__init__\u001b[1;34m(self, *args)\u001b[0m\n\u001b[0;32m     43\u001b[0m         \u001b[0mself\u001b[0m\u001b[1;33m.\u001b[0m\u001b[0margs\u001b[0m \u001b[1;33m=\u001b[0m \u001b[1;33m[\u001b[0m\u001b[0mAtom\u001b[0m\u001b[1;33m.\u001b[0m\u001b[0mcast_to_const\u001b[0m\u001b[1;33m(\u001b[0m\u001b[0marg\u001b[0m\u001b[1;33m)\u001b[0m \u001b[1;32mfor\u001b[0m \u001b[0marg\u001b[0m \u001b[1;32min\u001b[0m \u001b[0margs\u001b[0m\u001b[1;33m]\u001b[0m\u001b[1;33m\u001b[0m\u001b[1;33m\u001b[0m\u001b[0m\n\u001b[0;32m     44\u001b[0m         \u001b[0mself\u001b[0m\u001b[1;33m.\u001b[0m\u001b[0mvalidate_arguments\u001b[0m\u001b[1;33m(\u001b[0m\u001b[1;33m)\u001b[0m\u001b[1;33m\u001b[0m\u001b[1;33m\u001b[0m\u001b[0m\n\u001b[1;32m---> 45\u001b[1;33m         \u001b[0mself\u001b[0m\u001b[1;33m.\u001b[0m\u001b[0m_shape\u001b[0m \u001b[1;33m=\u001b[0m \u001b[0mself\u001b[0m\u001b[1;33m.\u001b[0m\u001b[0mshape_from_args\u001b[0m\u001b[1;33m(\u001b[0m\u001b[1;33m)\u001b[0m\u001b[1;33m\u001b[0m\u001b[1;33m\u001b[0m\u001b[0m\n\u001b[0m\u001b[0;32m     46\u001b[0m         \u001b[1;32mif\u001b[0m \u001b[0mlen\u001b[0m\u001b[1;33m(\u001b[0m\u001b[0mself\u001b[0m\u001b[1;33m.\u001b[0m\u001b[0m_shape\u001b[0m\u001b[1;33m)\u001b[0m \u001b[1;33m>\u001b[0m \u001b[1;36m2\u001b[0m\u001b[1;33m:\u001b[0m\u001b[1;33m\u001b[0m\u001b[1;33m\u001b[0m\u001b[0m\n\u001b[0;32m     47\u001b[0m             \u001b[1;32mraise\u001b[0m \u001b[0mValueError\u001b[0m\u001b[1;33m(\u001b[0m\u001b[1;34m\"Atoms must be at most 2D.\"\u001b[0m\u001b[1;33m)\u001b[0m\u001b[1;33m\u001b[0m\u001b[1;33m\u001b[0m\u001b[0m\n",
      "\u001b[1;32m~\\Anaconda3\\envs\\RobotControl\\lib\\site-packages\\cvxpy\\atoms\\affine\\add_expr.py\u001b[0m in \u001b[0;36mshape_from_args\u001b[1;34m(self)\u001b[0m\n\u001b[0;32m     39\u001b[0m         \"\"\"Returns the (row, col) shape of the expression.\n\u001b[0;32m     40\u001b[0m         \"\"\"\n\u001b[1;32m---> 41\u001b[1;33m         \u001b[1;32mreturn\u001b[0m \u001b[0mu\u001b[0m\u001b[1;33m.\u001b[0m\u001b[0mshape\u001b[0m\u001b[1;33m.\u001b[0m\u001b[0msum_shapes\u001b[0m\u001b[1;33m(\u001b[0m\u001b[1;33m[\u001b[0m\u001b[0marg\u001b[0m\u001b[1;33m.\u001b[0m\u001b[0mshape\u001b[0m \u001b[1;32mfor\u001b[0m \u001b[0marg\u001b[0m \u001b[1;32min\u001b[0m \u001b[0mself\u001b[0m\u001b[1;33m.\u001b[0m\u001b[0margs\u001b[0m\u001b[1;33m]\u001b[0m\u001b[1;33m)\u001b[0m\u001b[1;33m\u001b[0m\u001b[1;33m\u001b[0m\u001b[0m\n\u001b[0m\u001b[0;32m     42\u001b[0m \u001b[1;33m\u001b[0m\u001b[0m\n\u001b[0;32m     43\u001b[0m     \u001b[1;32mdef\u001b[0m \u001b[0mexpand_args\u001b[0m\u001b[1;33m(\u001b[0m\u001b[0mself\u001b[0m\u001b[1;33m,\u001b[0m \u001b[0mexpr\u001b[0m\u001b[1;33m)\u001b[0m\u001b[1;33m:\u001b[0m\u001b[1;33m\u001b[0m\u001b[1;33m\u001b[0m\u001b[0m\n",
      "\u001b[1;32m~\\Anaconda3\\envs\\RobotControl\\lib\\site-packages\\cvxpy\\utilities\\shape.py\u001b[0m in \u001b[0;36msum_shapes\u001b[1;34m(shapes)\u001b[0m\n\u001b[0;32m     47\u001b[0m             raise ValueError(\n\u001b[0;32m     48\u001b[0m                 \u001b[1;34m\"Cannot broadcast dimensions \"\u001b[0m \u001b[1;33m+\u001b[0m\u001b[1;33m\u001b[0m\u001b[1;33m\u001b[0m\u001b[0m\n\u001b[1;32m---> 49\u001b[1;33m                 len(shapes)*\" %s\" % tuple(shapes))\n\u001b[0m\u001b[0;32m     50\u001b[0m \u001b[1;33m\u001b[0m\u001b[0m\n\u001b[0;32m     51\u001b[0m         \u001b[0mlonger\u001b[0m \u001b[1;33m=\u001b[0m \u001b[0mshape\u001b[0m \u001b[1;32mif\u001b[0m \u001b[0mlen\u001b[0m\u001b[1;33m(\u001b[0m\u001b[0mshape\u001b[0m\u001b[1;33m)\u001b[0m \u001b[1;33m>=\u001b[0m \u001b[0mlen\u001b[0m\u001b[1;33m(\u001b[0m\u001b[0mt\u001b[0m\u001b[1;33m)\u001b[0m \u001b[1;32melse\u001b[0m \u001b[0mt\u001b[0m\u001b[1;33m\u001b[0m\u001b[1;33m\u001b[0m\u001b[0m\n",
      "\u001b[1;31mValueError\u001b[0m: Cannot broadcast dimensions  (4,) (4, 1)"
     ]
    }
   ],
   "source": [
    "x0 = np.array([\n",
    "        [0.0],\n",
    "        [0.0],\n",
    "        [0.3],\n",
    "        [0.0]\n",
    "    ])\n",
    "\n",
    "ox, dx, theta, dtheta, ou = mpc_control(x0)"
   ]
  },
  {
   "cell_type": "code",
   "execution_count": null,
   "metadata": {
    "collapsed": true
   },
   "outputs": [],
   "source": []
  }
 ],
 "metadata": {
  "anaconda-cloud": {},
  "kernelspec": {
   "display_name": "Python [conda env:RobotControl]",
   "language": "python",
   "name": "conda-env-RobotControl-py"
  },
  "language_info": {
   "codemirror_mode": {
    "name": "ipython",
    "version": 3
   },
   "file_extension": ".py",
   "mimetype": "text/x-python",
   "name": "python",
   "nbconvert_exporter": "python",
   "pygments_lexer": "ipython3",
   "version": "3.6.7"
  }
 },
 "nbformat": 4,
 "nbformat_minor": 2
}
