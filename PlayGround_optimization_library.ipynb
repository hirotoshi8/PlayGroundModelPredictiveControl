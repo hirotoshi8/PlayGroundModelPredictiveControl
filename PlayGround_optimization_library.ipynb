{
 "cells": [
  {
   "cell_type": "code",
   "execution_count": 7,
   "metadata": {
    "collapsed": false
   },
   "outputs": [
    {
     "data": {
      "text/plain": [
       "'1.0.24'"
      ]
     },
     "execution_count": 7,
     "metadata": {},
     "output_type": "execute_result"
    }
   ],
   "source": [
    "import cvxpy as cp\n",
    "cp.__version__"
   ]
  },
  {
   "cell_type": "markdown",
   "metadata": {},
   "source": [
    "# Example       "
   ]
  },
  {
   "cell_type": "code",
   "execution_count": 3,
   "metadata": {
    "collapsed": false
   },
   "outputs": [
    {
     "name": "stdout",
     "output_type": "stream",
     "text": [
      "optimal parameter:\n",
      " [-4.95922264e-21  6.07571976e-21  1.34643668e-01  1.24976681e-01\n",
      " -4.57130806e-21]\n",
      "Lagrange parameter\n",
      " [2.00105768 0.75536127 0.         0.         1.17911779]\n",
      "status:optimal\n"
     ]
    }
   ],
   "source": [
    "import cvxpy as cp\n",
    "import numpy as np\n",
    "\n",
    "m = 10\n",
    "n = 5\n",
    "\n",
    "np.random.seed(1)\n",
    "A = np.random.randn(m,n)\n",
    "b = np.random.randn(m)\n",
    "\n",
    "x = cp.Variable(n)\n",
    "cost = cp.sum_squares(A*x - b)\n",
    "objective = cp.Minimize(cost)\n",
    "constraints = [0 <= x, x <=1]\n",
    "prob= cp.Problem(objective, constraints)\n",
    "\n",
    "result = prob.solve()\n",
    "\n",
    "print(\"optimal parameter:\\n\", x.value)\n",
    "print(\"Lagrange parameter\\n\", constraints[0].dual_value)\n",
    "print(\"status:\"+ prob.status)"
   ]
  },
  {
   "cell_type": "markdown",
   "metadata": {},
   "source": [
    "# Example of CvxOpt"
   ]
  },
  {
   "cell_type": "code",
   "execution_count": 2,
   "metadata": {
    "collapsed": false
   },
   "outputs": [
    {
     "name": "stdout",
     "output_type": "stream",
     "text": [
      "     pcost       dcost       gap    pres   dres\n",
      " 0:  1.0000e+00  8.8818e-16  1e+00  4e-16  8e-01\n",
      " 1:  1.0000e+00  9.9000e-01  1e-02  8e-17  8e-03\n",
      " 2:  1.0000e+00  9.9990e-01  1e-04  1e-16  8e-05\n",
      " 3:  1.0000e+00  1.0000e+00  1e-06  1e-16  8e-07\n",
      " 4:  1.0000e+00  1.0000e+00  1e-08  7e-17  8e-09\n",
      "Optimal solution found.\n",
      "{'x': <2x1 matrix, tc='d'>, 'y': <2x1 matrix, tc='d'>, 's': <1x1 matrix, tc='d'>, 'z': <1x1 matrix, tc='d'>, 'status': 'optimal', 'gap': 1.0000000000000037e-08, 'relative gap': 1.0000000100000038e-08, 'primal objective': 1.0, 'dual objective': 0.99999999, 'primal infeasibility': 7.401486830834377e-17, 'dual infeasibility': 8.000000064507973e-09, 'primal slack': 1.0000000000000002, 'dual slack': 1.0000000000000035e-08, 'iterations': 4}\n",
      "[-1.00e+00]\n",
      "[ 1.00e+00]\n",
      "\n",
      "1.0\n"
     ]
    }
   ],
   "source": [
    "import cvxopt\n",
    "from cvxopt import matrix\n",
    "import numpy as np\n",
    "\n",
    "P = matrix(np.diag([1.0, -1.0]))\n",
    "q = matrix(np.array([3.0, 4.0]))\n",
    "A = matrix(np.array([[-1.0, 0.0],[2.0,3.0]]).astype(np.float))\n",
    "b = matrix(np.array([1.0,1.0]))\n",
    "G = matrix(np.array([[-2.0, 0.0]]).astype(np.float))\n",
    "h = matrix(np.array([3.0]))\n",
    "\n",
    "sol = cvxopt.solvers.qp(P,q, A=A, b=b,G=G, h=h)\n",
    "print(sol)\n",
    "print(sol['x'])\n",
    "print(sol['primal objective'])"
   ]
  },
  {
   "cell_type": "markdown",
   "metadata": {},
   "source": []
  },
  {
   "cell_type": "markdown",
   "metadata": {},
   "source": [
    "# Example\n",
    "- COst Function: (x - y)^2"
   ]
  },
  {
   "cell_type": "code",
   "execution_count": 3,
   "metadata": {
    "collapsed": false
   },
   "outputs": [
    {
     "name": "stdout",
     "output_type": "stream",
     "text": [
      "status: optimal\n",
      "optimal value 1.0\n",
      "optimal value 1.0 1.570086213240983e-22\n"
     ]
    }
   ],
   "source": [
    "import cvxpy as cp\n",
    "\n",
    "# Create 2 scalar optimization value\n",
    "x = cp.Variable()\n",
    "y = cp.Variable()\n",
    "\n",
    "# Create 2 constrains\n",
    "constrains = [ (x + y) == 1,\n",
    "               (x - y) >= 1]\n",
    "\n",
    "# Form objective(目的関数・コスト関数)\n",
    "cost = (x- y)**2\n",
    "obj = cp.Minimize(cost)\n",
    "\n",
    "# Form and solve problem\n",
    "prob = cp.Problem(obj, constrains)\n",
    "prob.solve()\n",
    "\n",
    "# Result\n",
    "print(\"status:\", prob.status)\n",
    "print(\"optimal value\", prob.value)\n",
    "print(\"optimal value\", x.value, y.value)\n"
   ]
  },
  {
   "cell_type": "markdown",
   "metadata": {},
   "source": [
    "# Example\n",
    "- Cost Function: -x1 + x2\n",
    "- st: (x1 + x2) = 1, (x1 - x2) >= 1"
   ]
  },
  {
   "cell_type": "code",
   "execution_count": 4,
   "metadata": {
    "collapsed": false
   },
   "outputs": [
    {
     "name": "stdout",
     "output_type": "stream",
     "text": [
      "status: unbounded\n",
      "optimal value -inf\n",
      "optimal value 1.0 1.570086213240983e-22\n"
     ]
    }
   ],
   "source": [
    "import cvxpy as vp\n",
    "\n",
    "# Creaate 2 scalar optimization value\n",
    "x1 = cp.Variable()\n",
    "x2 = cp.Variable()\n",
    "\n",
    "# Form objective\n",
    "cost = -x1+x2\n",
    "obj = cp.Minimize(cost)\n",
    "\n",
    "# Create 2 constraints\n",
    "constraints = [(x1 + x2) == 1,\n",
    "               (x1 - x2) >= 1]\n",
    "\n",
    "# Form and solve problem\n",
    "prob = cp.Problem(obj, constraints)\n",
    "prob.solve()\n",
    "\n",
    "# Result\n",
    "print(\"status:\", prob.status)\n",
    "print(\"optimal value\", prob.value)\n",
    "print(\"optimal value\", x.value, y.value)"
   ]
  },
  {
   "cell_type": "code",
   "execution_count": 5,
   "metadata": {
    "collapsed": false
   },
   "outputs": [
    {
     "name": "stdout",
     "output_type": "stream",
     "text": [
      "status: optimal\n",
      "optimal value 0.5000000000000002\n",
      "optimal value 0.5000000000000001 0.5000000000000001\n"
     ]
    }
   ],
   "source": [
    "import cvxpy as cp\n",
    "\n",
    "# Create Variables\n",
    "x = cp.Variable()\n",
    "y = cp.Variable()\n",
    "\n",
    "# Create constraints\n",
    "constraints = [(x + y) >= 1]\n",
    "\n",
    "# Cost function\n",
    "cost = x**2 + y**2\n",
    "# Form objective\n",
    "obj = cp.Minimize(cost)\n",
    "\n",
    "# Form and solve problem\n",
    "prob = cp.Problem(obj,constraints)\n",
    "prob.solve()\n",
    "\n",
    "# Result\n",
    "print(\"status:\", prob.status)\n",
    "print(\"optimal value\", prob.value)\n",
    "print(\"optimal value\", x.value, y.value)\n"
   ]
  },
  {
   "cell_type": "markdown",
   "metadata": {},
   "source": [
    "# Example\n",
    "- Cost Function: (x1 - 6)^2 + 2 + x2^2"
   ]
  },
  {
   "cell_type": "code",
   "execution_count": 1,
   "metadata": {
    "collapsed": false
   },
   "outputs": [
    {
     "name": "stdout",
     "output_type": "stream",
     "text": [
      "status: optimal\n",
      "optimal value 3.000000000000001\n",
      "optimal value 5.0 0.0\n"
     ]
    }
   ],
   "source": [
    "import cvxpy as cp\n",
    "\n",
    "# Create Variables\n",
    "x1 = cp.Variable()\n",
    "x2 = cp.Variable()\n",
    "\n",
    "# Cost\n",
    "cost = (x1 - 6)**2 + 2+x2**2\n",
    "# objective\n",
    "obj = cp.Minimize(cost)\n",
    "\n",
    "# Create constraints\n",
    "constraints = [x1 <= 5,\n",
    "               -x1<= 5,\n",
    "               x2 <= 5,\n",
    "               -x2<= 5]\n",
    "\n",
    "\n",
    "# Form and solve problem\n",
    "prob = cp.Problem(obj, constraints)\n",
    "prob.solve()\n",
    "\n",
    "# Result\n",
    "print(\"status:\", prob.status)\n",
    "print(\"optimal value\", prob.value)\n",
    "print(\"optimal value\", x1.value, x2.value)\n"
   ]
  },
  {
   "cell_type": "markdown",
   "metadata": {},
   "source": [
    "# Model predoctive control with cvxpy"
   ]
  },
  {
   "cell_type": "markdown",
   "metadata": {},
   "source": [
    "# Example\n",
    "- 倒立振り子を用いた最適制御問題の例\n",
    "- 初期条件に対する1回分の予測値を算出する\n",
    "- モデル予測制御は、本処理を処理周期ごとに反復することで、フィードバック系を実現する"
   ]
  },
  {
   "cell_type": "code",
   "execution_count": 74,
   "metadata": {
    "collapsed": false
   },
   "outputs": [
    {
     "name": "stdout",
     "output_type": "stream",
     "text": [
      "(4,)\n"
     ]
    }
   ],
   "source": [
    "import time\n",
    "import cvxpy as cp\n",
    "import numpy as np\n",
    "import matplotlib.pyplot as plt\n",
    "%matplotlib inline\n",
    "\n",
    "n_state = 4   # 状態の数\n",
    "m_state = 1   # 制御入力の数\n",
    "T = 100  # 何ステップ先まで予測するかを決める\n",
    "\n",
    "#simulation parameter\n",
    "delta_t = 0.01\n",
    "\n",
    "M = 1.0  # [kg]\n",
    "m = 0.3  # [kg]\n",
    "g = 9.8  # [m/s^2]\n",
    "l = 0.6  # [m]\n",
    "\n",
    "# Model Parameter\n",
    "A = np.array([\n",
    "    [0.0, 1.0, 0.0, 0.0],\n",
    "    [0.0, 0.0, m * g / M, 0.0],\n",
    "    [0.0, 0.0, 0.0, 1.0],\n",
    "    [0.0, 0.0, g * (M + m) / (l * M), 0.0]\n",
    "    ])\n",
    "A = np.eye(n_state) + delta_t * A\n",
    "\"\"\"\n",
    "B = np.array([\n",
    "    [0.0],\n",
    "    [1.0 / M],\n",
    "    [0.0],\n",
    "    [1.0 / (l * M)]\n",
    "    ])\n",
    "\n",
    "\"\"\"\n",
    "B = np.array([0.0, 1.0 / M, 0.0, 1.0 / (l * M)])\n",
    "B = delta_t * B\n",
    "\n",
    "# 倒立振子の初期状態\n",
    "# 今回はすべてが0に収束するよう目指す\n",
    "\"\"\" \n",
    "# もとの行列だと次元の違いでエラーになる\n",
    "x0 = np.array([\n",
    "    [-0.02],\n",
    "    [0.0],\n",
    "    [0.02],\n",
    "    [0.0]\n",
    "    ])\n",
    "\"\"\"\n",
    "# 状態変数の初期値を設定\n",
    "x0 = np.array([-1.0, 0.1, 0.2,0.2])\n",
    "#x0.shape\n",
    "print(B.shape)"
   ]
  },
  {
   "cell_type": "code",
   "execution_count": 85,
   "metadata": {
    "collapsed": false
   },
   "outputs": [
    {
     "name": "stdout",
     "output_type": "stream",
     "text": [
      "calc time:1.0162811279296875 [sec]\n",
      "status: optimal_inaccurate\n",
      "optimal value 916.301784052545\n",
      "optimal value [-20.01037148] [-20.00202155]\n"
     ]
    }
   ],
   "source": [
    "x = cp.Variable((n_state, T+1))\n",
    "u = cp.Variable((m_state, T))\n",
    "\n",
    "cost_arr_Q = np.array([\n",
    "    [1.0, 0.0, 0.0, 0.0],\n",
    "    [0.0, 1.0, 0.0, 0.0],\n",
    "    [0.0, 0.0, 0.1, 0.0],\n",
    "    [0.0, 0.0, 0.0, 0.1]\n",
    "    ])\n",
    "\n",
    "cost_arr_R = np.array([0.1, 0.1, 0.1, 0.1])\n",
    "\n",
    "# Init for Clear\n",
    "cost = 0\n",
    "constraints = []\n",
    "\n",
    "for t in range(T):\n",
    "    # コスト関数の値が小さくなるような配列uを求める\n",
    "    # sums problem objectives and concatenates constraints.\n",
    "    cost += cp.sum_squares(cost_arr_Q@x[:,t+1]) + cp.sum_squares( 0.1*u[:,t])\n",
    "    # 制約式（線形方程式と制御入力の限界値）を与える\n",
    "    # Push formed problems\n",
    "    constraints += [x[:,t+1] == A@x[:,t] + B@u[:,t], # 状態方程式の制約\n",
    "                    cp.norm(u[:,t], 'inf') <= 20.0]  # 入力制限の制約\n",
    "    \n",
    "# sums problem objectives and concatenates constraints.\n",
    "constraints += [x[:,T] == 0, x[:,0] == x0]\n",
    "\n",
    "# 最適化の目的関数\n",
    "obj = cp.Minimize(cost)\n",
    "# Form problem\n",
    "prob = cp.Problem(obj, constraints)\n",
    "\n",
    "# 制約をさらに2つ追加する\n",
    "# 最後の状態(Tステップ後の状態)はすべてが0、すなわち理想の状態とすること\n",
    "# そして、現在の状態x0は事実としてあるので、制約となる\n",
    "\n",
    "start = time.time()\n",
    "result=prob.solve(verbose=False)\n",
    "elapsed_time = time.time() - start\n",
    "print(\"calc time:{0} [sec]\".format(elapsed_time))\n",
    "\n",
    "# 発散した場合は制御不能として終了\n",
    "if result == float(\"inf\"):\n",
    "    print(\"Cannot optimize\")\n",
    "    import sys\n",
    "    sys.exit()\n",
    "    \n",
    "# Result\n",
    "print(\"status:\", prob.status)\n",
    "print(\"optimal value\", prob.value)\n",
    "print(\"optimal value\", u[:,1].value, u[:,10].value)"
   ]
  },
  {
   "cell_type": "code",
   "execution_count": 102,
   "metadata": {
    "collapsed": false
   },
   "outputs": [
    {
     "data": {
      "image/png": "[encoded data removed]",
      "text/plain": [
       "<Figure size 432x288 with 2 Axes>"
      ]
     },
     "metadata": {
      "needs_background": "light"
     },
     "output_type": "display_data"
    }
   ],
   "source": [
    "#-1.98240512e-02, 8.64236397e-05, 1.97532638e-02, -5.91928332e-05\n",
    "f = plt.figure()\n",
    "ax = f.add_subplot(211)\n",
    "u1=np.array(u[0,:].value).tolist()\n",
    "#u2=np.array(u[2].value[0,:])[0].tolist()\n",
    "plt.plot(u1,'-r',label=\"u1\")\n",
    "#plt.plot(u2,'-b',label=\"u2\")\n",
    "plt.ylabel(r\"$u_t$\", fontsize=16)\n",
    "plt.yticks(np.linspace(-1.0, 1.0, 3))\n",
    "plt.legend()\n",
    "plt.grid(True)\n",
    "\n",
    "plt.subplot(2,1,2)\n",
    "x1=np.array(x[0,:].value).tolist()\n",
    "x2=np.array(x[1,:].value).tolist()\n",
    "x3=np.array(x[2,:].value).tolist()\n",
    "x4=np.array(x[3,:].value).tolist()\n",
    "\n",
    "plt.plot(range(T+1), x1,'-r',label=\"x1\")\n",
    "plt.plot(range(T+1), x2,'-b',label=\"x2\")\n",
    "plt.plot(range(T+1), x3,'-g',label=\"x3\")\n",
    "plt.plot(range(T+1), x4,'-k',label=\"x4\")\n",
    "\n",
    "plt.yticks([-20, 0, 20])\n",
    "plt.ylim([-25, 25])\n",
    "plt.ylabel(r\"$x_t$\", fontsize=16)\n",
    "plt.xlabel(r\"$t$\", fontsize=16)\n",
    "\n",
    "plt.grid(True)\n",
    "plt.legend()\n",
    "plt.tight_layout()\n",
    "plt.show()"
   ]
  },
  {
   "cell_type": "code",
   "execution_count": 65,
   "metadata": {
    "collapsed": false
   },
   "outputs": [
    {
     "data": {
      "text/plain": [
       "(1, 101)"
      ]
     },
     "execution_count": 65,
     "metadata": {},
     "output_type": "execute_result"
    }
   ],
   "source": [
    "x[1,:].value.reshape(1,101).shape"
   ]
  },
  {
   "cell_type": "code",
   "execution_count": 71,
   "metadata": {
    "collapsed": false
   },
   "outputs": [
    {
     "data": {
      "text/plain": [
       "-0.019824051242043818"
      ]
     },
     "execution_count": 71,
     "metadata": {},
     "output_type": "execute_result"
    }
   ],
   "source": [
    "np.array(x[0,:].value)[0].tolist()"
   ]
  },
  {
   "cell_type": "code",
   "execution_count": 101,
   "metadata": {
    "collapsed": false
   },
   "outputs": [
    {
     "data": {
      "text/plain": [
       "(1, 100)"
      ]
     },
     "execution_count": 101,
     "metadata": {},
     "output_type": "execute_result"
    }
   ],
   "source": [
    "u1=np.array(u[:].value[0]).tolist()\n",
    "np.array(u[:].value[0])\n",
    "u.shape"
   ]
  },
  {
   "cell_type": "code",
   "execution_count": 86,
   "metadata": {
    "collapsed": false
   },
   "outputs": [
    {
     "data": {
      "text/plain": [
       "array([-20.01165038])"
      ]
     },
     "execution_count": 86,
     "metadata": {},
     "output_type": "execute_result"
    }
   ],
   "source": [
    "u[:,0].value"
   ]
  },
  {
   "cell_type": "markdown",
   "metadata": {
    "collapsed": true
   },
   "source": [
    "# Basic Example of the Control problem"
   ]
  },
  {
   "cell_type": "code",
   "execution_count": 4,
   "metadata": {
    "collapsed": false
   },
   "outputs": [
    {
     "data": {
      "text/plain": [
       "64470.57722638684"
      ]
     },
     "execution_count": 4,
     "metadata": {},
     "output_type": "execute_result"
    }
   ],
   "source": [
    "# Form and solve control problem.\n",
    "import cvxpy as cp\n",
    "\n",
    "# Generate data for control problem.\n",
    "import numpy as np\n",
    "np.random.seed(1)\n",
    "n = 8\n",
    "m = 2\n",
    "T = 50\n",
    "alpha = 0.2\n",
    "beta = 5\n",
    "A = np.eye(n) + alpha*np.random.randn(n,n)\n",
    "B = np.random.randn(n,m)\n",
    "x_0 = beta*np.random.randn(n)\n",
    "\n",
    "x = cp.Variable((n, T+1))\n",
    "u = cp.Variable((m, T))\n",
    "\n",
    "cost = 0\n",
    "constr = []\n",
    "for t in range(T):\n",
    "    cost += cp.sum_squares(x[:,t+1]) + cp.sum_squares(u[:,t])\n",
    "    constr += [x[:,t+1] == A@x[:,t] + B@u[:,t],\n",
    "               cp.norm(u[:,t], 'inf') <= 1]\n",
    "# sums problem objectives and concatenates constraints.\n",
    "constr += [x[:,T] == 0, x[:,0] == x_0]\n",
    "problem = cp.Problem(cp.Minimize(cost), constr)\n",
    "problem.solve(solver=cp.ECOS)"
   ]
  },
  {
   "cell_type": "code",
   "execution_count": null,
   "metadata": {
    "collapsed": true
   },
   "outputs": [],
   "source": []
  }
 ],
 "metadata": {
  "anaconda-cloud": {},
  "kernelspec": {
   "display_name": "Python [conda env:RobotControl]",
   "language": "python",
   "name": "conda-env-RobotControl-py"
  },
  "language_info": {
   "codemirror_mode": {
    "name": "ipython",
    "version": 3
   },
   "file_extension": ".py",
   "mimetype": "text/x-python",
   "name": "python",
   "nbconvert_exporter": "python",
   "pygments_lexer": "ipython3",
   "version": "3.6.7"
  }
 },
 "nbformat": 4,
 "nbformat_minor": 2
}
